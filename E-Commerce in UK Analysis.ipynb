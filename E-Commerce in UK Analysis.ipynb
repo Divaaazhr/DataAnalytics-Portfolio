{
 "cells": [
  {
   "cell_type": "markdown",
   "id": "3d2a5a07",
   "metadata": {},
   "source": [
    "# E-Commerce Case Study\n",
    "In today's digital era, business paradigms and customer interactions have been transformed significantly. E-commerce, as a product of this digital transformation, has revolutionized the way companies operate. With an increasing number of consumers shifting to online shopping, businesses are in a race to harness the potential of e-commerce to gain a competitive edge and drive growth.\n",
    "\n",
    "One of the key strengths of e-commerce is its ability to gather vast amounts of data regarding customer behaviors and transactions. This has opened up new opportunities to gain a deeper understanding of consumer preferences and align products and services more closely with their needs.\n",
    "\n",
    "**About Dataset:**\n",
    "\n",
    "Contains orders from an E-commerce site (UK Retailer), with various products and orders. Try starting with EDA and applying different functions to know more about the data. The dataset is tricky as it contains all the problems that an actual site may have. The dataset can be found [here](https://www.kaggle.com/datasets/atharvaarya25/e-commerce-analysis-uk/data).\n",
    "\n",
    "Some hints to know what problems the dataset has:\n",
    "\n",
    "* Contains duplicates!! Check for it and remove them\n",
    "* Contains missing values\n",
    "* Has negative unit price, try to guess what could be the reason\n",
    "* Has negative quantity, try to guess what could be the reason\n",
    "* Apply a prescriptive analysis approach to data and find ways to increase sales. This is an interesting task that builds up skills like business Intelligence.\n",
    "\n",
    "In this data analysis project, we will delve deeper into the captivating world of e-commerce analysis. Through a series of crucial techniques such as data cleaning, exploratory data analysis (EDA) visualizations, and customer segmentation using the RFM (Recency, Frequency, Monetary) approach, we will conclude the project by revealing valuable insights into customer behavior."
   ]
  },
  {
   "cell_type": "code",
   "execution_count": 1,
   "id": "e873625d",
   "metadata": {},
   "outputs": [],
   "source": [
    "#Importing the required libraries\n",
    "import pandas as pd\n",
    "import numpy as np\n",
    "import seaborn as sns\n",
    "import matplotlib.pyplot as plt"
   ]
  },
  {
   "cell_type": "code",
   "execution_count": 2,
   "id": "1088e17b",
   "metadata": {},
   "outputs": [
    {
     "name": "stdout",
     "output_type": "stream",
     "text": [
      "  InvoiceNo StockCode                          Description  Quantity  \\\n",
      "0    536365    85123A   WHITE HANGING HEART T-LIGHT HOLDER         6   \n",
      "1    536365     71053                  WHITE METAL LANTERN         6   \n",
      "2    536365    84406B       CREAM CUPID HEARTS COAT HANGER         8   \n",
      "3    536365    84029G  KNITTED UNION FLAG HOT WATER BOTTLE         6   \n",
      "4    536365    84029E       RED WOOLLY HOTTIE WHITE HEART.         6   \n",
      "\n",
      "      InvoiceDate  UnitPrice  CustomerID         Country  \n",
      "0  12/1/2010 8:26       2.55     17850.0  United Kingdom  \n",
      "1  12/1/2010 8:26       3.39     17850.0  United Kingdom  \n",
      "2  12/1/2010 8:26       2.75     17850.0  United Kingdom  \n",
      "3  12/1/2010 8:26       3.39     17850.0  United Kingdom  \n",
      "4  12/1/2010 8:26       3.39     17850.0  United Kingdom  \n"
     ]
    }
   ],
   "source": [
    "#Lets have a look at head of the dataset to get an idea of what it looks like.\n",
    "df = pd.read_csv(\"C:\\\\Users\\\\Diva Azzahra\\\\Downloads\\\\E-commerce(UK).csv\",encoding = \"ISO-8859-1\")\n",
    "print(df.head())"
   ]
  },
  {
   "cell_type": "markdown",
   "id": "ffd84724",
   "metadata": {},
   "source": [
    "### A. Data Wrangling\n",
    "**1. Check for Data Types**"
   ]
  },
  {
   "cell_type": "code",
   "execution_count": 3,
   "id": "33d0978b",
   "metadata": {},
   "outputs": [
    {
     "name": "stdout",
     "output_type": "stream",
     "text": [
      "<class 'pandas.core.frame.DataFrame'>\n",
      "RangeIndex: 541909 entries, 0 to 541908\n",
      "Data columns (total 8 columns):\n",
      " #   Column       Non-Null Count   Dtype  \n",
      "---  ------       --------------   -----  \n",
      " 0   InvoiceNo    541909 non-null  object \n",
      " 1   StockCode    541909 non-null  object \n",
      " 2   Description  540455 non-null  object \n",
      " 3   Quantity     541909 non-null  int64  \n",
      " 4   InvoiceDate  541909 non-null  object \n",
      " 5   UnitPrice    541909 non-null  float64\n",
      " 6   CustomerID   406829 non-null  float64\n",
      " 7   Country      541909 non-null  object \n",
      "dtypes: float64(2), int64(1), object(5)\n",
      "memory usage: 33.1+ MB\n"
     ]
    }
   ],
   "source": [
    "df.info()"
   ]
  },
  {
   "cell_type": "markdown",
   "id": "c2e05a3a",
   "metadata": {},
   "source": [
    "Summary:\n",
    "- The dtype of InvoiceDate should be changed from object to DateTime\n",
    "- Quantity and unit price should be changed from object to numeric\n",
    "- The CustomerID is unique to a customer, so we can't consider them as float64, so changed them as object."
   ]
  },
  {
   "cell_type": "markdown",
   "id": "e0bfcd44",
   "metadata": {},
   "source": [
    "**2. Changing to the proper datatype of some columns**"
   ]
  },
  {
   "cell_type": "code",
   "execution_count": 4,
   "id": "1cb29466",
   "metadata": {},
   "outputs": [],
   "source": [
    "# 1. Switch data type of InvoiceDate\n",
    "df['InvoiceDate'] = pd.to_datetime(df['InvoiceDate'])"
   ]
  },
  {
   "cell_type": "code",
   "execution_count": 5,
   "id": "209b575b",
   "metadata": {},
   "outputs": [
    {
     "data": {
      "text/plain": [
       "InvoiceNo              object\n",
       "StockCode              object\n",
       "Description            object\n",
       "Quantity                int64\n",
       "InvoiceDate    datetime64[ns]\n",
       "UnitPrice             float64\n",
       "CustomerID            float64\n",
       "Country                object\n",
       "dtype: object"
      ]
     },
     "execution_count": 5,
     "metadata": {},
     "output_type": "execute_result"
    }
   ],
   "source": [
    "df.dtypes"
   ]
  },
  {
   "cell_type": "code",
   "execution_count": 6,
   "id": "c11deb82",
   "metadata": {},
   "outputs": [],
   "source": [
    "# 2. Switch data type of CustomerID\n",
    "df = df.astype({'CustomerID':object})"
   ]
  },
  {
   "cell_type": "code",
   "execution_count": 7,
   "id": "8b022156",
   "metadata": {},
   "outputs": [
    {
     "data": {
      "text/plain": [
       "InvoiceNo      25900\n",
       "StockCode       4070\n",
       "Description     4223\n",
       "Quantity         722\n",
       "InvoiceDate    23260\n",
       "UnitPrice       1630\n",
       "CustomerID      4372\n",
       "Country           38\n",
       "dtype: int64"
      ]
     },
     "execution_count": 7,
     "metadata": {},
     "output_type": "execute_result"
    }
   ],
   "source": [
    "df.nunique()"
   ]
  },
  {
   "cell_type": "code",
   "execution_count": 8,
   "id": "5a9333ea",
   "metadata": {},
   "outputs": [],
   "source": [
    "# 3. Switch data type of Quantity\n",
    "df['Quantity'] = pd.to_numeric(df['Quantity'])\n",
    "\n",
    "#4. Switch data type of UnitPrice\n",
    "df['UnitPrice'] = pd.to_numeric(df['UnitPrice'])"
   ]
  },
  {
   "cell_type": "code",
   "execution_count": 9,
   "id": "18bcc124",
   "metadata": {},
   "outputs": [
    {
     "data": {
      "text/plain": [
       "InvoiceNo              object\n",
       "StockCode              object\n",
       "Description            object\n",
       "Quantity                int64\n",
       "InvoiceDate    datetime64[ns]\n",
       "UnitPrice             float64\n",
       "CustomerID             object\n",
       "Country                object\n",
       "dtype: object"
      ]
     },
     "execution_count": 9,
     "metadata": {},
     "output_type": "execute_result"
    }
   ],
   "source": [
    "df.dtypes"
   ]
  },
  {
   "cell_type": "markdown",
   "id": "88260694",
   "metadata": {},
   "source": [
    "**3. Statistics of numeric columns**"
   ]
  },
  {
   "cell_type": "code",
   "execution_count": 10,
   "id": "036adf6e",
   "metadata": {},
   "outputs": [
    {
     "data": {
      "text/html": [
       "<div>\n",
       "<style scoped>\n",
       "    .dataframe tbody tr th:only-of-type {\n",
       "        vertical-align: middle;\n",
       "    }\n",
       "\n",
       "    .dataframe tbody tr th {\n",
       "        vertical-align: top;\n",
       "    }\n",
       "\n",
       "    .dataframe thead th {\n",
       "        text-align: right;\n",
       "    }\n",
       "</style>\n",
       "<table border=\"1\" class=\"dataframe\">\n",
       "  <thead>\n",
       "    <tr style=\"text-align: right;\">\n",
       "      <th></th>\n",
       "      <th>Quantity</th>\n",
       "      <th>InvoiceDate</th>\n",
       "      <th>UnitPrice</th>\n",
       "    </tr>\n",
       "  </thead>\n",
       "  <tbody>\n",
       "    <tr>\n",
       "      <th>count</th>\n",
       "      <td>541909.000000</td>\n",
       "      <td>541909</td>\n",
       "      <td>541909.000000</td>\n",
       "    </tr>\n",
       "    <tr>\n",
       "      <th>mean</th>\n",
       "      <td>9.552250</td>\n",
       "      <td>2011-07-04 13:34:57.156386048</td>\n",
       "      <td>4.611114</td>\n",
       "    </tr>\n",
       "    <tr>\n",
       "      <th>min</th>\n",
       "      <td>-80995.000000</td>\n",
       "      <td>2010-12-01 08:26:00</td>\n",
       "      <td>-11062.060000</td>\n",
       "    </tr>\n",
       "    <tr>\n",
       "      <th>25%</th>\n",
       "      <td>1.000000</td>\n",
       "      <td>2011-03-28 11:34:00</td>\n",
       "      <td>1.250000</td>\n",
       "    </tr>\n",
       "    <tr>\n",
       "      <th>50%</th>\n",
       "      <td>3.000000</td>\n",
       "      <td>2011-07-19 17:17:00</td>\n",
       "      <td>2.080000</td>\n",
       "    </tr>\n",
       "    <tr>\n",
       "      <th>75%</th>\n",
       "      <td>10.000000</td>\n",
       "      <td>2011-10-19 11:27:00</td>\n",
       "      <td>4.130000</td>\n",
       "    </tr>\n",
       "    <tr>\n",
       "      <th>max</th>\n",
       "      <td>80995.000000</td>\n",
       "      <td>2011-12-09 12:50:00</td>\n",
       "      <td>38970.000000</td>\n",
       "    </tr>\n",
       "    <tr>\n",
       "      <th>std</th>\n",
       "      <td>218.081158</td>\n",
       "      <td>NaN</td>\n",
       "      <td>96.759853</td>\n",
       "    </tr>\n",
       "  </tbody>\n",
       "</table>\n",
       "</div>"
      ],
      "text/plain": [
       "            Quantity                    InvoiceDate      UnitPrice\n",
       "count  541909.000000                         541909  541909.000000\n",
       "mean        9.552250  2011-07-04 13:34:57.156386048       4.611114\n",
       "min    -80995.000000            2010-12-01 08:26:00  -11062.060000\n",
       "25%         1.000000            2011-03-28 11:34:00       1.250000\n",
       "50%         3.000000            2011-07-19 17:17:00       2.080000\n",
       "75%        10.000000            2011-10-19 11:27:00       4.130000\n",
       "max     80995.000000            2011-12-09 12:50:00   38970.000000\n",
       "std       218.081158                            NaN      96.759853"
      ]
     },
     "execution_count": 10,
     "metadata": {},
     "output_type": "execute_result"
    }
   ],
   "source": [
    "df.describe()"
   ]
  },
  {
   "cell_type": "markdown",
   "id": "3107dab5",
   "metadata": {},
   "source": [
    "As we can see, both the 'Quantity' and 'UnitPrice' columns have negative values, which could cause errors. We need to handle and rectify these mistakes by validating and cleansing the data to ensure reliable and accurate analysis."
   ]
  },
  {
   "cell_type": "markdown",
   "id": "0cf76c27",
   "metadata": {},
   "source": [
    "**4. Checking dataset dimensions**"
   ]
  },
  {
   "cell_type": "code",
   "execution_count": 11,
   "id": "348dc1a0",
   "metadata": {},
   "outputs": [
    {
     "data": {
      "text/plain": [
       "(541909, 8)"
      ]
     },
     "execution_count": 11,
     "metadata": {},
     "output_type": "execute_result"
    }
   ],
   "source": [
    "df.shape"
   ]
  },
  {
   "cell_type": "markdown",
   "id": "a444ddba",
   "metadata": {},
   "source": [
    "## B. Data Cleaning\n",
    "**1. Checking for duplicates**"
   ]
  },
  {
   "cell_type": "code",
   "execution_count": 12,
   "id": "abb5c67a",
   "metadata": {},
   "outputs": [
    {
     "data": {
      "text/plain": [
       "5268"
      ]
     },
     "execution_count": 12,
     "metadata": {},
     "output_type": "execute_result"
    }
   ],
   "source": [
    "#checking for duplicates\n",
    "df.duplicated().sum()"
   ]
  },
  {
   "cell_type": "code",
   "execution_count": 13,
   "id": "80efb188",
   "metadata": {},
   "outputs": [],
   "source": [
    "#eliminating for duplicated rows\n",
    "df = df.drop_duplicates()"
   ]
  },
  {
   "cell_type": "code",
   "execution_count": 14,
   "id": "dda9a93f",
   "metadata": {},
   "outputs": [
    {
     "data": {
      "text/plain": [
       "0"
      ]
     },
     "execution_count": 14,
     "metadata": {},
     "output_type": "execute_result"
    }
   ],
   "source": [
    "#double check \n",
    "df.duplicated().sum()"
   ]
  },
  {
   "cell_type": "markdown",
   "id": "8f3dcfe9",
   "metadata": {},
   "source": [
    "**2. Checking for missing values**"
   ]
  },
  {
   "cell_type": "code",
   "execution_count": 15,
   "id": "89823302",
   "metadata": {},
   "outputs": [
    {
     "data": {
      "text/plain": [
       "InvoiceNo           0\n",
       "StockCode           0\n",
       "Description      1454\n",
       "Quantity            0\n",
       "InvoiceDate         0\n",
       "UnitPrice           0\n",
       "CustomerID     135037\n",
       "Country             0\n",
       "dtype: int64"
      ]
     },
     "execution_count": 15,
     "metadata": {},
     "output_type": "execute_result"
    }
   ],
   "source": [
    "df.isnull().sum()"
   ]
  },
  {
   "cell_type": "code",
   "execution_count": 16,
   "id": "df9a4183",
   "metadata": {},
   "outputs": [],
   "source": [
    "# Step 1: Calculate the most frequent description for each stockcode\n",
    "grouped_description = df.groupby('StockCode')['Description'].apply(lambda x: x.mode().iloc[0] if not x.mode().empty else None).reset_index()\n",
    "\n",
    "# Step 2: Create a mapping dictionary with NaN values handled as well\n",
    "mapping_dict = dict(zip(grouped_description['StockCode'], grouped_description['Description']))\n",
    "\n",
    "# Step 3: Fill missing descriptions based on the mapping dictionary\n",
    "df['Description'] = df['StockCode'].map(mapping_dict).combine_first(df['Description'])"
   ]
  },
  {
   "cell_type": "code",
   "execution_count": 17,
   "id": "1692e052",
   "metadata": {},
   "outputs": [
    {
     "data": {
      "text/plain": [
       "InvoiceNo           0\n",
       "StockCode           0\n",
       "Description       112\n",
       "Quantity            0\n",
       "InvoiceDate         0\n",
       "UnitPrice           0\n",
       "CustomerID     135037\n",
       "Country             0\n",
       "dtype: int64"
      ]
     },
     "execution_count": 17,
     "metadata": {},
     "output_type": "execute_result"
    }
   ],
   "source": [
    "#double check\n",
    "df.isnull().sum()"
   ]
  },
  {
   "cell_type": "code",
   "execution_count": 18,
   "id": "85ea8862",
   "metadata": {},
   "outputs": [
    {
     "data": {
      "text/plain": [
       "0.2516337737891812"
      ]
     },
     "execution_count": 18,
     "metadata": {},
     "output_type": "execute_result"
    }
   ],
   "source": [
    "# We want to know the percentage of missing value in CustomerID and Description\n",
    "135037/len(df)"
   ]
  },
  {
   "cell_type": "code",
   "execution_count": 19,
   "id": "b4f29857",
   "metadata": {},
   "outputs": [
    {
     "data": {
      "text/plain": [
       "0.00020870563374770097"
      ]
     },
     "execution_count": 19,
     "metadata": {},
     "output_type": "execute_result"
    }
   ],
   "source": [
    "112/len(df)"
   ]
  },
  {
   "cell_type": "markdown",
   "id": "6c1c7db3",
   "metadata": {},
   "source": [
    "Summary:\n",
    "- The percentage of missing value in CustomerID is more than 24.9%.\n",
    "- Since CustomerID cannot be filled using imputation methods we are going to fill the columns.\n",
    "- The percentage of missing values in Description is less than 2% we have to impute the values.\n",
    "- The values are filled based on the relation between stockcode and description.\n",
    "- After imputing there are few values which were not filled because there are no decription for the specific stockcode. Since there are only 0.2% we can fill those columns with \"others\" string value and also fill CustomerID."
   ]
  },
  {
   "cell_type": "markdown",
   "id": "22ea94c5",
   "metadata": {},
   "source": [
    "**2. Filling those misssing values**"
   ]
  },
  {
   "cell_type": "code",
   "execution_count": 20,
   "id": "a4222a38",
   "metadata": {},
   "outputs": [],
   "source": [
    "df['Description'] = df['Description'].fillna(\"Others\")\n",
    "df['CustomerID'] = df['CustomerID'].fillna(\"Unknown\")"
   ]
  },
  {
   "cell_type": "markdown",
   "id": "74da7101",
   "metadata": {},
   "source": [
    "## C. Filtering & creating several columns\n",
    "**1. Create columns**"
   ]
  },
  {
   "cell_type": "code",
   "execution_count": 21,
   "id": "7bcbb957",
   "metadata": {},
   "outputs": [
    {
     "data": {
      "text/html": [
       "<div>\n",
       "<style scoped>\n",
       "    .dataframe tbody tr th:only-of-type {\n",
       "        vertical-align: middle;\n",
       "    }\n",
       "\n",
       "    .dataframe tbody tr th {\n",
       "        vertical-align: top;\n",
       "    }\n",
       "\n",
       "    .dataframe thead th {\n",
       "        text-align: right;\n",
       "    }\n",
       "</style>\n",
       "<table border=\"1\" class=\"dataframe\">\n",
       "  <thead>\n",
       "    <tr style=\"text-align: right;\">\n",
       "      <th></th>\n",
       "      <th>InvoiceNo</th>\n",
       "      <th>StockCode</th>\n",
       "      <th>Description</th>\n",
       "      <th>Quantity</th>\n",
       "      <th>InvoiceDate</th>\n",
       "      <th>UnitPrice</th>\n",
       "      <th>CustomerID</th>\n",
       "      <th>Country</th>\n",
       "      <th>Year</th>\n",
       "      <th>Month</th>\n",
       "      <th>Day</th>\n",
       "      <th>Hour</th>\n",
       "    </tr>\n",
       "  </thead>\n",
       "  <tbody>\n",
       "    <tr>\n",
       "      <th>0</th>\n",
       "      <td>536365</td>\n",
       "      <td>85123A</td>\n",
       "      <td>WHITE HANGING HEART T-LIGHT HOLDER</td>\n",
       "      <td>6</td>\n",
       "      <td>2010-12-01 08:26:00</td>\n",
       "      <td>2.55</td>\n",
       "      <td>17850.0</td>\n",
       "      <td>United Kingdom</td>\n",
       "      <td>2010</td>\n",
       "      <td>12</td>\n",
       "      <td>1</td>\n",
       "      <td>8</td>\n",
       "    </tr>\n",
       "    <tr>\n",
       "      <th>1</th>\n",
       "      <td>536365</td>\n",
       "      <td>71053</td>\n",
       "      <td>WHITE METAL LANTERN</td>\n",
       "      <td>6</td>\n",
       "      <td>2010-12-01 08:26:00</td>\n",
       "      <td>3.39</td>\n",
       "      <td>17850.0</td>\n",
       "      <td>United Kingdom</td>\n",
       "      <td>2010</td>\n",
       "      <td>12</td>\n",
       "      <td>1</td>\n",
       "      <td>8</td>\n",
       "    </tr>\n",
       "    <tr>\n",
       "      <th>2</th>\n",
       "      <td>536365</td>\n",
       "      <td>84406B</td>\n",
       "      <td>CREAM CUPID HEARTS COAT HANGER</td>\n",
       "      <td>8</td>\n",
       "      <td>2010-12-01 08:26:00</td>\n",
       "      <td>2.75</td>\n",
       "      <td>17850.0</td>\n",
       "      <td>United Kingdom</td>\n",
       "      <td>2010</td>\n",
       "      <td>12</td>\n",
       "      <td>1</td>\n",
       "      <td>8</td>\n",
       "    </tr>\n",
       "  </tbody>\n",
       "</table>\n",
       "</div>"
      ],
      "text/plain": [
       "  InvoiceNo StockCode                         Description  Quantity  \\\n",
       "0    536365    85123A  WHITE HANGING HEART T-LIGHT HOLDER         6   \n",
       "1    536365     71053                 WHITE METAL LANTERN         6   \n",
       "2    536365    84406B      CREAM CUPID HEARTS COAT HANGER         8   \n",
       "\n",
       "          InvoiceDate  UnitPrice CustomerID         Country  Year  Month  Day  \\\n",
       "0 2010-12-01 08:26:00       2.55    17850.0  United Kingdom  2010     12    1   \n",
       "1 2010-12-01 08:26:00       3.39    17850.0  United Kingdom  2010     12    1   \n",
       "2 2010-12-01 08:26:00       2.75    17850.0  United Kingdom  2010     12    1   \n",
       "\n",
       "   Hour  \n",
       "0     8  \n",
       "1     8  \n",
       "2     8  "
      ]
     },
     "execution_count": 21,
     "metadata": {},
     "output_type": "execute_result"
    }
   ],
   "source": [
    "#Creating a separate column for year\n",
    "df['Year'] = df['InvoiceDate'].dt.year\n",
    "\n",
    "#creating a column for Month\n",
    "df['Month']= df['InvoiceDate'].dt.month\n",
    "\n",
    "# Creating column for day \n",
    "df['Day']= df['InvoiceDate'].dt.day\n",
    "\n",
    "# Creating column for hour\n",
    "df['Hour'] = df['InvoiceDate'].dt.hour\n",
    "\n",
    "df.head(3)"
   ]
  },
  {
   "cell_type": "code",
   "execution_count": 22,
   "id": "d0c7db6d",
   "metadata": {},
   "outputs": [],
   "source": [
    "#creating a column for total\n",
    "df['Total of Sales'] = df['Quantity']*df['UnitPrice']"
   ]
  },
  {
   "cell_type": "code",
   "execution_count": 23,
   "id": "e7b90a91",
   "metadata": {
    "scrolled": true
   },
   "outputs": [
    {
     "data": {
      "text/html": [
       "<div>\n",
       "<style scoped>\n",
       "    .dataframe tbody tr th:only-of-type {\n",
       "        vertical-align: middle;\n",
       "    }\n",
       "\n",
       "    .dataframe tbody tr th {\n",
       "        vertical-align: top;\n",
       "    }\n",
       "\n",
       "    .dataframe thead th {\n",
       "        text-align: right;\n",
       "    }\n",
       "</style>\n",
       "<table border=\"1\" class=\"dataframe\">\n",
       "  <thead>\n",
       "    <tr style=\"text-align: right;\">\n",
       "      <th></th>\n",
       "      <th>InvoiceNo</th>\n",
       "      <th>StockCode</th>\n",
       "      <th>Description</th>\n",
       "      <th>Quantity</th>\n",
       "      <th>InvoiceDate</th>\n",
       "      <th>UnitPrice</th>\n",
       "      <th>CustomerID</th>\n",
       "      <th>Country</th>\n",
       "      <th>Year</th>\n",
       "      <th>Month</th>\n",
       "      <th>Day</th>\n",
       "      <th>Hour</th>\n",
       "      <th>Total of Sales</th>\n",
       "    </tr>\n",
       "  </thead>\n",
       "  <tbody>\n",
       "    <tr>\n",
       "      <th>0</th>\n",
       "      <td>536365</td>\n",
       "      <td>85123A</td>\n",
       "      <td>WHITE HANGING HEART T-LIGHT HOLDER</td>\n",
       "      <td>6</td>\n",
       "      <td>2010-12-01 08:26:00</td>\n",
       "      <td>2.55</td>\n",
       "      <td>17850.0</td>\n",
       "      <td>United Kingdom</td>\n",
       "      <td>2010</td>\n",
       "      <td>12</td>\n",
       "      <td>1</td>\n",
       "      <td>8</td>\n",
       "      <td>15.30</td>\n",
       "    </tr>\n",
       "    <tr>\n",
       "      <th>1</th>\n",
       "      <td>536365</td>\n",
       "      <td>71053</td>\n",
       "      <td>WHITE METAL LANTERN</td>\n",
       "      <td>6</td>\n",
       "      <td>2010-12-01 08:26:00</td>\n",
       "      <td>3.39</td>\n",
       "      <td>17850.0</td>\n",
       "      <td>United Kingdom</td>\n",
       "      <td>2010</td>\n",
       "      <td>12</td>\n",
       "      <td>1</td>\n",
       "      <td>8</td>\n",
       "      <td>20.34</td>\n",
       "    </tr>\n",
       "    <tr>\n",
       "      <th>2</th>\n",
       "      <td>536365</td>\n",
       "      <td>84406B</td>\n",
       "      <td>CREAM CUPID HEARTS COAT HANGER</td>\n",
       "      <td>8</td>\n",
       "      <td>2010-12-01 08:26:00</td>\n",
       "      <td>2.75</td>\n",
       "      <td>17850.0</td>\n",
       "      <td>United Kingdom</td>\n",
       "      <td>2010</td>\n",
       "      <td>12</td>\n",
       "      <td>1</td>\n",
       "      <td>8</td>\n",
       "      <td>22.00</td>\n",
       "    </tr>\n",
       "    <tr>\n",
       "      <th>3</th>\n",
       "      <td>536365</td>\n",
       "      <td>84029G</td>\n",
       "      <td>KNITTED UNION FLAG HOT WATER BOTTLE</td>\n",
       "      <td>6</td>\n",
       "      <td>2010-12-01 08:26:00</td>\n",
       "      <td>3.39</td>\n",
       "      <td>17850.0</td>\n",
       "      <td>United Kingdom</td>\n",
       "      <td>2010</td>\n",
       "      <td>12</td>\n",
       "      <td>1</td>\n",
       "      <td>8</td>\n",
       "      <td>20.34</td>\n",
       "    </tr>\n",
       "    <tr>\n",
       "      <th>4</th>\n",
       "      <td>536365</td>\n",
       "      <td>84029E</td>\n",
       "      <td>RED WOOLLY HOTTIE WHITE HEART.</td>\n",
       "      <td>6</td>\n",
       "      <td>2010-12-01 08:26:00</td>\n",
       "      <td>3.39</td>\n",
       "      <td>17850.0</td>\n",
       "      <td>United Kingdom</td>\n",
       "      <td>2010</td>\n",
       "      <td>12</td>\n",
       "      <td>1</td>\n",
       "      <td>8</td>\n",
       "      <td>20.34</td>\n",
       "    </tr>\n",
       "  </tbody>\n",
       "</table>\n",
       "</div>"
      ],
      "text/plain": [
       "  InvoiceNo StockCode                          Description  Quantity  \\\n",
       "0    536365    85123A   WHITE HANGING HEART T-LIGHT HOLDER         6   \n",
       "1    536365     71053                  WHITE METAL LANTERN         6   \n",
       "2    536365    84406B       CREAM CUPID HEARTS COAT HANGER         8   \n",
       "3    536365    84029G  KNITTED UNION FLAG HOT WATER BOTTLE         6   \n",
       "4    536365    84029E       RED WOOLLY HOTTIE WHITE HEART.         6   \n",
       "\n",
       "          InvoiceDate  UnitPrice CustomerID         Country  Year  Month  Day  \\\n",
       "0 2010-12-01 08:26:00       2.55    17850.0  United Kingdom  2010     12    1   \n",
       "1 2010-12-01 08:26:00       3.39    17850.0  United Kingdom  2010     12    1   \n",
       "2 2010-12-01 08:26:00       2.75    17850.0  United Kingdom  2010     12    1   \n",
       "3 2010-12-01 08:26:00       3.39    17850.0  United Kingdom  2010     12    1   \n",
       "4 2010-12-01 08:26:00       3.39    17850.0  United Kingdom  2010     12    1   \n",
       "\n",
       "   Hour  Total of Sales  \n",
       "0     8           15.30  \n",
       "1     8           20.34  \n",
       "2     8           22.00  \n",
       "3     8           20.34  \n",
       "4     8           20.34  "
      ]
     },
     "execution_count": 23,
     "metadata": {},
     "output_type": "execute_result"
    }
   ],
   "source": [
    "df.head()"
   ]
  },
  {
   "cell_type": "markdown",
   "id": "11e1b270",
   "metadata": {},
   "source": [
    "**2. Structuring / Filtering**"
   ]
  },
  {
   "cell_type": "code",
   "execution_count": 24,
   "id": "f81e2451",
   "metadata": {},
   "outputs": [
    {
     "data": {
      "image/png": "[encoded data removed]",
      "text/plain": [
       "<Figure size 640x480 with 1 Axes>"
      ]
     },
     "metadata": {},
     "output_type": "display_data"
    }
   ],
   "source": [
    "#Check Unit Price `s Distribution\n",
    "df.plot(kind='box')\n",
    "plt.title('Numeric columns Distributions')\n",
    "plt.show()"
   ]
  },
  {
   "cell_type": "markdown",
   "id": "9e865b9c",
   "metadata": {},
   "source": [
    "As we can the above box plot, 'Quantity', 'Unit Price' and 'Sales' show nagetive values. Potential reasons for negative values in these columns could be data entry errors, misinterpretation of data or cancelations."
   ]
  },
  {
   "cell_type": "code",
   "execution_count": 25,
   "id": "4423cef1",
   "metadata": {},
   "outputs": [
    {
     "data": {
      "text/html": [
       "<div>\n",
       "<style scoped>\n",
       "    .dataframe tbody tr th:only-of-type {\n",
       "        vertical-align: middle;\n",
       "    }\n",
       "\n",
       "    .dataframe tbody tr th {\n",
       "        vertical-align: top;\n",
       "    }\n",
       "\n",
       "    .dataframe thead th {\n",
       "        text-align: right;\n",
       "    }\n",
       "</style>\n",
       "<table border=\"1\" class=\"dataframe\">\n",
       "  <thead>\n",
       "    <tr style=\"text-align: right;\">\n",
       "      <th></th>\n",
       "      <th>InvoiceNo</th>\n",
       "      <th>StockCode</th>\n",
       "      <th>Description</th>\n",
       "      <th>Quantity</th>\n",
       "      <th>InvoiceDate</th>\n",
       "      <th>UnitPrice</th>\n",
       "      <th>CustomerID</th>\n",
       "      <th>Country</th>\n",
       "      <th>Year</th>\n",
       "      <th>Month</th>\n",
       "      <th>Day</th>\n",
       "      <th>Hour</th>\n",
       "      <th>Total of Sales</th>\n",
       "    </tr>\n",
       "  </thead>\n",
       "  <tbody>\n",
       "    <tr>\n",
       "      <th>299983</th>\n",
       "      <td>A563186</td>\n",
       "      <td>B</td>\n",
       "      <td>Adjust bad debt</td>\n",
       "      <td>1</td>\n",
       "      <td>2011-08-12 14:51:00</td>\n",
       "      <td>-11062.06</td>\n",
       "      <td>Unknown</td>\n",
       "      <td>United Kingdom</td>\n",
       "      <td>2011</td>\n",
       "      <td>8</td>\n",
       "      <td>12</td>\n",
       "      <td>14</td>\n",
       "      <td>-11062.06</td>\n",
       "    </tr>\n",
       "    <tr>\n",
       "      <th>299984</th>\n",
       "      <td>A563187</td>\n",
       "      <td>B</td>\n",
       "      <td>Adjust bad debt</td>\n",
       "      <td>1</td>\n",
       "      <td>2011-08-12 14:52:00</td>\n",
       "      <td>-11062.06</td>\n",
       "      <td>Unknown</td>\n",
       "      <td>United Kingdom</td>\n",
       "      <td>2011</td>\n",
       "      <td>8</td>\n",
       "      <td>12</td>\n",
       "      <td>14</td>\n",
       "      <td>-11062.06</td>\n",
       "    </tr>\n",
       "  </tbody>\n",
       "</table>\n",
       "</div>"
      ],
      "text/plain": [
       "       InvoiceNo StockCode      Description  Quantity         InvoiceDate  \\\n",
       "299983   A563186         B  Adjust bad debt         1 2011-08-12 14:51:00   \n",
       "299984   A563187         B  Adjust bad debt         1 2011-08-12 14:52:00   \n",
       "\n",
       "        UnitPrice CustomerID         Country  Year  Month  Day  Hour  \\\n",
       "299983  -11062.06    Unknown  United Kingdom  2011      8   12    14   \n",
       "299984  -11062.06    Unknown  United Kingdom  2011      8   12    14   \n",
       "\n",
       "        Total of Sales  \n",
       "299983       -11062.06  \n",
       "299984       -11062.06  "
      ]
     },
     "execution_count": 25,
     "metadata": {},
     "output_type": "execute_result"
    }
   ],
   "source": [
    "#Checking those rows with negative values in 'Unitprice' column \n",
    "df[df['UnitPrice']<0]"
   ]
  },
  {
   "cell_type": "code",
   "execution_count": 26,
   "id": "1a6762d4",
   "metadata": {},
   "outputs": [
    {
     "data": {
      "text/html": [
       "<div>\n",
       "<style scoped>\n",
       "    .dataframe tbody tr th:only-of-type {\n",
       "        vertical-align: middle;\n",
       "    }\n",
       "\n",
       "    .dataframe tbody tr th {\n",
       "        vertical-align: top;\n",
       "    }\n",
       "\n",
       "    .dataframe thead th {\n",
       "        text-align: right;\n",
       "    }\n",
       "</style>\n",
       "<table border=\"1\" class=\"dataframe\">\n",
       "  <thead>\n",
       "    <tr style=\"text-align: right;\">\n",
       "      <th></th>\n",
       "      <th>InvoiceNo</th>\n",
       "      <th>StockCode</th>\n",
       "      <th>Description</th>\n",
       "      <th>Quantity</th>\n",
       "      <th>InvoiceDate</th>\n",
       "      <th>UnitPrice</th>\n",
       "      <th>CustomerID</th>\n",
       "      <th>Country</th>\n",
       "      <th>Year</th>\n",
       "      <th>Month</th>\n",
       "      <th>Day</th>\n",
       "      <th>Hour</th>\n",
       "      <th>Total of Sales</th>\n",
       "    </tr>\n",
       "  </thead>\n",
       "  <tbody>\n",
       "    <tr>\n",
       "      <th>299982</th>\n",
       "      <td>A563185</td>\n",
       "      <td>B</td>\n",
       "      <td>Adjust bad debt</td>\n",
       "      <td>1</td>\n",
       "      <td>2011-08-12 14:50:00</td>\n",
       "      <td>11062.06</td>\n",
       "      <td>Unknown</td>\n",
       "      <td>United Kingdom</td>\n",
       "      <td>2011</td>\n",
       "      <td>8</td>\n",
       "      <td>12</td>\n",
       "      <td>14</td>\n",
       "      <td>11062.06</td>\n",
       "    </tr>\n",
       "    <tr>\n",
       "      <th>299983</th>\n",
       "      <td>A563186</td>\n",
       "      <td>B</td>\n",
       "      <td>Adjust bad debt</td>\n",
       "      <td>1</td>\n",
       "      <td>2011-08-12 14:51:00</td>\n",
       "      <td>-11062.06</td>\n",
       "      <td>Unknown</td>\n",
       "      <td>United Kingdom</td>\n",
       "      <td>2011</td>\n",
       "      <td>8</td>\n",
       "      <td>12</td>\n",
       "      <td>14</td>\n",
       "      <td>-11062.06</td>\n",
       "    </tr>\n",
       "    <tr>\n",
       "      <th>299984</th>\n",
       "      <td>A563187</td>\n",
       "      <td>B</td>\n",
       "      <td>Adjust bad debt</td>\n",
       "      <td>1</td>\n",
       "      <td>2011-08-12 14:52:00</td>\n",
       "      <td>-11062.06</td>\n",
       "      <td>Unknown</td>\n",
       "      <td>United Kingdom</td>\n",
       "      <td>2011</td>\n",
       "      <td>8</td>\n",
       "      <td>12</td>\n",
       "      <td>14</td>\n",
       "      <td>-11062.06</td>\n",
       "    </tr>\n",
       "  </tbody>\n",
       "</table>\n",
       "</div>"
      ],
      "text/plain": [
       "       InvoiceNo StockCode      Description  Quantity         InvoiceDate  \\\n",
       "299982   A563185         B  Adjust bad debt         1 2011-08-12 14:50:00   \n",
       "299983   A563186         B  Adjust bad debt         1 2011-08-12 14:51:00   \n",
       "299984   A563187         B  Adjust bad debt         1 2011-08-12 14:52:00   \n",
       "\n",
       "        UnitPrice CustomerID         Country  Year  Month  Day  Hour  \\\n",
       "299982   11062.06    Unknown  United Kingdom  2011      8   12    14   \n",
       "299983  -11062.06    Unknown  United Kingdom  2011      8   12    14   \n",
       "299984  -11062.06    Unknown  United Kingdom  2011      8   12    14   \n",
       "\n",
       "        Total of Sales  \n",
       "299982        11062.06  \n",
       "299983       -11062.06  \n",
       "299984       -11062.06  "
      ]
     },
     "execution_count": 26,
     "metadata": {},
     "output_type": "execute_result"
    }
   ],
   "source": [
    "#Checking if there's more rows with 'debt' word in their description \n",
    "df[df['Description'].str.contains('debt|DEBT')]"
   ]
  },
  {
   "cell_type": "code",
   "execution_count": 27,
   "id": "cfaea11c",
   "metadata": {},
   "outputs": [],
   "source": [
    "# Filtering out those rows \n",
    "df = df[~df['Description'].str.contains('debt|DEBT')]"
   ]
  },
  {
   "cell_type": "code",
   "execution_count": 28,
   "id": "aecdf293",
   "metadata": {},
   "outputs": [],
   "source": [
    "# Filtering out rows where their 'UnitPrice' is less than 0 \n",
    "df = df[df['UnitPrice']>0]"
   ]
  },
  {
   "cell_type": "code",
   "execution_count": 29,
   "id": "b551048a",
   "metadata": {},
   "outputs": [
    {
     "data": {
      "text/plain": [
       "0.001"
      ]
     },
     "execution_count": 29,
     "metadata": {},
     "output_type": "execute_result"
    }
   ],
   "source": [
    "# Checking minimin 'UnitPrice'\n",
    "df['UnitPrice'].min()"
   ]
  },
  {
   "cell_type": "code",
   "execution_count": 30,
   "id": "5959eacb",
   "metadata": {},
   "outputs": [
    {
     "data": {
      "text/html": [
       "<div>\n",
       "<style scoped>\n",
       "    .dataframe tbody tr th:only-of-type {\n",
       "        vertical-align: middle;\n",
       "    }\n",
       "\n",
       "    .dataframe tbody tr th {\n",
       "        vertical-align: top;\n",
       "    }\n",
       "\n",
       "    .dataframe thead th {\n",
       "        text-align: right;\n",
       "    }\n",
       "</style>\n",
       "<table border=\"1\" class=\"dataframe\">\n",
       "  <thead>\n",
       "    <tr style=\"text-align: right;\">\n",
       "      <th></th>\n",
       "      <th>InvoiceNo</th>\n",
       "      <th>StockCode</th>\n",
       "      <th>Description</th>\n",
       "      <th>Quantity</th>\n",
       "      <th>InvoiceDate</th>\n",
       "      <th>UnitPrice</th>\n",
       "      <th>CustomerID</th>\n",
       "      <th>Country</th>\n",
       "      <th>Year</th>\n",
       "      <th>Month</th>\n",
       "      <th>Day</th>\n",
       "      <th>Hour</th>\n",
       "      <th>Total of Sales</th>\n",
       "    </tr>\n",
       "  </thead>\n",
       "  <tbody>\n",
       "    <tr>\n",
       "      <th>141</th>\n",
       "      <td>C536379</td>\n",
       "      <td>D</td>\n",
       "      <td>Discount</td>\n",
       "      <td>-1</td>\n",
       "      <td>2010-12-01 09:41:00</td>\n",
       "      <td>27.50</td>\n",
       "      <td>14527.0</td>\n",
       "      <td>United Kingdom</td>\n",
       "      <td>2010</td>\n",
       "      <td>12</td>\n",
       "      <td>1</td>\n",
       "      <td>9</td>\n",
       "      <td>-27.50</td>\n",
       "    </tr>\n",
       "    <tr>\n",
       "      <th>154</th>\n",
       "      <td>C536383</td>\n",
       "      <td>35004C</td>\n",
       "      <td>SET OF 3 COLOURED  FLYING DUCKS</td>\n",
       "      <td>-1</td>\n",
       "      <td>2010-12-01 09:49:00</td>\n",
       "      <td>4.65</td>\n",
       "      <td>15311.0</td>\n",
       "      <td>United Kingdom</td>\n",
       "      <td>2010</td>\n",
       "      <td>12</td>\n",
       "      <td>1</td>\n",
       "      <td>9</td>\n",
       "      <td>-4.65</td>\n",
       "    </tr>\n",
       "    <tr>\n",
       "      <th>235</th>\n",
       "      <td>C536391</td>\n",
       "      <td>22556</td>\n",
       "      <td>PLASTERS IN TIN CIRCUS PARADE</td>\n",
       "      <td>-12</td>\n",
       "      <td>2010-12-01 10:24:00</td>\n",
       "      <td>1.65</td>\n",
       "      <td>17548.0</td>\n",
       "      <td>United Kingdom</td>\n",
       "      <td>2010</td>\n",
       "      <td>12</td>\n",
       "      <td>1</td>\n",
       "      <td>10</td>\n",
       "      <td>-19.80</td>\n",
       "    </tr>\n",
       "    <tr>\n",
       "      <th>236</th>\n",
       "      <td>C536391</td>\n",
       "      <td>21984</td>\n",
       "      <td>PACK OF 12 PINK PAISLEY TISSUES</td>\n",
       "      <td>-24</td>\n",
       "      <td>2010-12-01 10:24:00</td>\n",
       "      <td>0.29</td>\n",
       "      <td>17548.0</td>\n",
       "      <td>United Kingdom</td>\n",
       "      <td>2010</td>\n",
       "      <td>12</td>\n",
       "      <td>1</td>\n",
       "      <td>10</td>\n",
       "      <td>-6.96</td>\n",
       "    </tr>\n",
       "    <tr>\n",
       "      <th>237</th>\n",
       "      <td>C536391</td>\n",
       "      <td>21983</td>\n",
       "      <td>PACK OF 12 BLUE PAISLEY TISSUES</td>\n",
       "      <td>-24</td>\n",
       "      <td>2010-12-01 10:24:00</td>\n",
       "      <td>0.29</td>\n",
       "      <td>17548.0</td>\n",
       "      <td>United Kingdom</td>\n",
       "      <td>2010</td>\n",
       "      <td>12</td>\n",
       "      <td>1</td>\n",
       "      <td>10</td>\n",
       "      <td>-6.96</td>\n",
       "    </tr>\n",
       "    <tr>\n",
       "      <th>...</th>\n",
       "      <td>...</td>\n",
       "      <td>...</td>\n",
       "      <td>...</td>\n",
       "      <td>...</td>\n",
       "      <td>...</td>\n",
       "      <td>...</td>\n",
       "      <td>...</td>\n",
       "      <td>...</td>\n",
       "      <td>...</td>\n",
       "      <td>...</td>\n",
       "      <td>...</td>\n",
       "      <td>...</td>\n",
       "      <td>...</td>\n",
       "    </tr>\n",
       "    <tr>\n",
       "      <th>540449</th>\n",
       "      <td>C581490</td>\n",
       "      <td>23144</td>\n",
       "      <td>ZINC T-LIGHT HOLDER STARS SMALL</td>\n",
       "      <td>-11</td>\n",
       "      <td>2011-12-09 09:57:00</td>\n",
       "      <td>0.83</td>\n",
       "      <td>14397.0</td>\n",
       "      <td>United Kingdom</td>\n",
       "      <td>2011</td>\n",
       "      <td>12</td>\n",
       "      <td>9</td>\n",
       "      <td>9</td>\n",
       "      <td>-9.13</td>\n",
       "    </tr>\n",
       "    <tr>\n",
       "      <th>541541</th>\n",
       "      <td>C581499</td>\n",
       "      <td>M</td>\n",
       "      <td>Manual</td>\n",
       "      <td>-1</td>\n",
       "      <td>2011-12-09 10:28:00</td>\n",
       "      <td>224.69</td>\n",
       "      <td>15498.0</td>\n",
       "      <td>United Kingdom</td>\n",
       "      <td>2011</td>\n",
       "      <td>12</td>\n",
       "      <td>9</td>\n",
       "      <td>10</td>\n",
       "      <td>-224.69</td>\n",
       "    </tr>\n",
       "    <tr>\n",
       "      <th>541715</th>\n",
       "      <td>C581568</td>\n",
       "      <td>21258</td>\n",
       "      <td>VICTORIAN SEWING BOX LARGE</td>\n",
       "      <td>-5</td>\n",
       "      <td>2011-12-09 11:57:00</td>\n",
       "      <td>10.95</td>\n",
       "      <td>15311.0</td>\n",
       "      <td>United Kingdom</td>\n",
       "      <td>2011</td>\n",
       "      <td>12</td>\n",
       "      <td>9</td>\n",
       "      <td>11</td>\n",
       "      <td>-54.75</td>\n",
       "    </tr>\n",
       "    <tr>\n",
       "      <th>541716</th>\n",
       "      <td>C581569</td>\n",
       "      <td>84978</td>\n",
       "      <td>HANGING HEART JAR T-LIGHT HOLDER</td>\n",
       "      <td>-1</td>\n",
       "      <td>2011-12-09 11:58:00</td>\n",
       "      <td>1.25</td>\n",
       "      <td>17315.0</td>\n",
       "      <td>United Kingdom</td>\n",
       "      <td>2011</td>\n",
       "      <td>12</td>\n",
       "      <td>9</td>\n",
       "      <td>11</td>\n",
       "      <td>-1.25</td>\n",
       "    </tr>\n",
       "    <tr>\n",
       "      <th>541717</th>\n",
       "      <td>C581569</td>\n",
       "      <td>20979</td>\n",
       "      <td>36 PENCILS TUBE RED RETROSPOT</td>\n",
       "      <td>-5</td>\n",
       "      <td>2011-12-09 11:58:00</td>\n",
       "      <td>1.25</td>\n",
       "      <td>17315.0</td>\n",
       "      <td>United Kingdom</td>\n",
       "      <td>2011</td>\n",
       "      <td>12</td>\n",
       "      <td>9</td>\n",
       "      <td>11</td>\n",
       "      <td>-6.25</td>\n",
       "    </tr>\n",
       "  </tbody>\n",
       "</table>\n",
       "<p>9251 rows × 13 columns</p>\n",
       "</div>"
      ],
      "text/plain": [
       "       InvoiceNo StockCode                       Description  Quantity  \\\n",
       "141      C536379         D                          Discount        -1   \n",
       "154      C536383    35004C   SET OF 3 COLOURED  FLYING DUCKS        -1   \n",
       "235      C536391     22556    PLASTERS IN TIN CIRCUS PARADE        -12   \n",
       "236      C536391     21984  PACK OF 12 PINK PAISLEY TISSUES        -24   \n",
       "237      C536391     21983  PACK OF 12 BLUE PAISLEY TISSUES        -24   \n",
       "...          ...       ...                               ...       ...   \n",
       "540449   C581490     23144   ZINC T-LIGHT HOLDER STARS SMALL       -11   \n",
       "541541   C581499         M                            Manual        -1   \n",
       "541715   C581568     21258        VICTORIAN SEWING BOX LARGE        -5   \n",
       "541716   C581569     84978  HANGING HEART JAR T-LIGHT HOLDER        -1   \n",
       "541717   C581569     20979     36 PENCILS TUBE RED RETROSPOT        -5   \n",
       "\n",
       "               InvoiceDate  UnitPrice CustomerID         Country  Year  Month  \\\n",
       "141    2010-12-01 09:41:00      27.50    14527.0  United Kingdom  2010     12   \n",
       "154    2010-12-01 09:49:00       4.65    15311.0  United Kingdom  2010     12   \n",
       "235    2010-12-01 10:24:00       1.65    17548.0  United Kingdom  2010     12   \n",
       "236    2010-12-01 10:24:00       0.29    17548.0  United Kingdom  2010     12   \n",
       "237    2010-12-01 10:24:00       0.29    17548.0  United Kingdom  2010     12   \n",
       "...                    ...        ...        ...             ...   ...    ...   \n",
       "540449 2011-12-09 09:57:00       0.83    14397.0  United Kingdom  2011     12   \n",
       "541541 2011-12-09 10:28:00     224.69    15498.0  United Kingdom  2011     12   \n",
       "541715 2011-12-09 11:57:00      10.95    15311.0  United Kingdom  2011     12   \n",
       "541716 2011-12-09 11:58:00       1.25    17315.0  United Kingdom  2011     12   \n",
       "541717 2011-12-09 11:58:00       1.25    17315.0  United Kingdom  2011     12   \n",
       "\n",
       "        Day  Hour  Total of Sales  \n",
       "141       1     9          -27.50  \n",
       "154       1     9           -4.65  \n",
       "235       1    10          -19.80  \n",
       "236       1    10           -6.96  \n",
       "237       1    10           -6.96  \n",
       "...     ...   ...             ...  \n",
       "540449    9     9           -9.13  \n",
       "541541    9    10         -224.69  \n",
       "541715    9    11          -54.75  \n",
       "541716    9    11           -1.25  \n",
       "541717    9    11           -6.25  \n",
       "\n",
       "[9251 rows x 13 columns]"
      ]
     },
     "execution_count": 30,
     "metadata": {},
     "output_type": "execute_result"
    }
   ],
   "source": [
    "# Checking those rows where the 'Quantity' is less than 0 \n",
    "df[df['Quantity']<0]"
   ]
  },
  {
   "cell_type": "markdown",
   "id": "c76174eb",
   "metadata": {},
   "source": [
    "Most of the cases, negative quantities might represent returns or refunds of previously purchased items. When a customer returns an item, it may be recorded as a negative quantity in the sales data."
   ]
  },
  {
   "cell_type": "code",
   "execution_count": 31,
   "id": "a541b3c7",
   "metadata": {},
   "outputs": [],
   "source": [
    "# Filetring out those rows \n",
    "df = df[df['Quantity']>0]"
   ]
  },
  {
   "cell_type": "code",
   "execution_count": 32,
   "id": "2166ca23",
   "metadata": {},
   "outputs": [
    {
     "data": {
      "text/plain": [
       "1"
      ]
     },
     "execution_count": 32,
     "metadata": {},
     "output_type": "execute_result"
    }
   ],
   "source": [
    "# Checking the minimum 'Quantity'\n",
    "df['Quantity'].min()"
   ]
  },
  {
   "cell_type": "code",
   "execution_count": 33,
   "id": "6fb1e88e",
   "metadata": {},
   "outputs": [
    {
     "data": {
      "image/png": "[encoded data removed]",
      "text/plain": [
       "<Figure size 640x480 with 1 Axes>"
      ]
     },
     "metadata": {},
     "output_type": "display_data"
    }
   ],
   "source": [
    "# Let's visualize again numeric values distribution\n",
    "df.plot(kind='box')\n",
    "plt.title('Numeric columns Distributions')\n",
    "plt.show()"
   ]
  },
  {
   "cell_type": "markdown",
   "id": "57e3e00c",
   "metadata": {},
   "source": [
    "With negative values eliminated, we can now analyze the data. However, before delving into the comprehensive analysis, it is prudent to examine any potential extreme values that might exist."
   ]
  },
  {
   "cell_type": "code",
   "execution_count": 34,
   "id": "0230861f",
   "metadata": {},
   "outputs": [
    {
     "data": {
      "text/html": [
       "<div>\n",
       "<style scoped>\n",
       "    .dataframe tbody tr th:only-of-type {\n",
       "        vertical-align: middle;\n",
       "    }\n",
       "\n",
       "    .dataframe tbody tr th {\n",
       "        vertical-align: top;\n",
       "    }\n",
       "\n",
       "    .dataframe thead th {\n",
       "        text-align: right;\n",
       "    }\n",
       "</style>\n",
       "<table border=\"1\" class=\"dataframe\">\n",
       "  <thead>\n",
       "    <tr style=\"text-align: right;\">\n",
       "      <th></th>\n",
       "      <th>InvoiceNo</th>\n",
       "      <th>StockCode</th>\n",
       "      <th>Description</th>\n",
       "      <th>Quantity</th>\n",
       "      <th>InvoiceDate</th>\n",
       "      <th>UnitPrice</th>\n",
       "      <th>CustomerID</th>\n",
       "      <th>Country</th>\n",
       "      <th>Year</th>\n",
       "      <th>Month</th>\n",
       "      <th>Day</th>\n",
       "      <th>Hour</th>\n",
       "      <th>Total of Sales</th>\n",
       "    </tr>\n",
       "  </thead>\n",
       "  <tbody>\n",
       "    <tr>\n",
       "      <th>61619</th>\n",
       "      <td>541431</td>\n",
       "      <td>23166</td>\n",
       "      <td>MEDIUM CERAMIC TOP STORAGE JAR</td>\n",
       "      <td>74215</td>\n",
       "      <td>2011-01-18 10:01:00</td>\n",
       "      <td>1.04</td>\n",
       "      <td>12346.0</td>\n",
       "      <td>United Kingdom</td>\n",
       "      <td>2011</td>\n",
       "      <td>1</td>\n",
       "      <td>18</td>\n",
       "      <td>10</td>\n",
       "      <td>77183.6</td>\n",
       "    </tr>\n",
       "    <tr>\n",
       "      <th>540421</th>\n",
       "      <td>581483</td>\n",
       "      <td>23843</td>\n",
       "      <td>PAPER CRAFT , LITTLE BIRDIE</td>\n",
       "      <td>80995</td>\n",
       "      <td>2011-12-09 09:15:00</td>\n",
       "      <td>2.08</td>\n",
       "      <td>16446.0</td>\n",
       "      <td>United Kingdom</td>\n",
       "      <td>2011</td>\n",
       "      <td>12</td>\n",
       "      <td>9</td>\n",
       "      <td>9</td>\n",
       "      <td>168469.6</td>\n",
       "    </tr>\n",
       "  </tbody>\n",
       "</table>\n",
       "</div>"
      ],
      "text/plain": [
       "       InvoiceNo StockCode                     Description  Quantity  \\\n",
       "61619     541431     23166  MEDIUM CERAMIC TOP STORAGE JAR     74215   \n",
       "540421    581483     23843     PAPER CRAFT , LITTLE BIRDIE     80995   \n",
       "\n",
       "               InvoiceDate  UnitPrice CustomerID         Country  Year  Month  \\\n",
       "61619  2011-01-18 10:01:00       1.04    12346.0  United Kingdom  2011      1   \n",
       "540421 2011-12-09 09:15:00       2.08    16446.0  United Kingdom  2011     12   \n",
       "\n",
       "        Day  Hour  Total of Sales  \n",
       "61619    18    10         77183.6  \n",
       "540421    9     9        168469.6  "
      ]
     },
     "execution_count": 34,
     "metadata": {},
     "output_type": "execute_result"
    }
   ],
   "source": [
    "#Checking Extreme Values \n",
    "df[df['Quantity']>10000]"
   ]
  },
  {
   "cell_type": "markdown",
   "id": "8ab0949a",
   "metadata": {},
   "source": [
    "It seems that there are two extreme purchases in the data. After careful evaluation, we have concluded that these values don't lead to errors, and as such, we have decided to keep them in the dataset."
   ]
  },
  {
   "cell_type": "markdown",
   "id": "c3f73c94",
   "metadata": {},
   "source": [
    "# Data Analysis\n",
    "Our approach includes exploration, visualization, segmentation, and time series.\n",
    "\n",
    "Let's try to solve the following quesitons:\n",
    "\n",
    "1.) What product sold the most?\n",
    "<br>2.) What Products are most often sold together\n",
    "<br>3.) Which are the countries with the most amount  of customers?\n",
    "<br>4.) What is the average sales per customer in each country?\n",
    "<br>5.) Are there any seasonal patterns or trends in sales data over different time periods?\n",
    "<br>6.) \n",
    "what strategies can be applied to effectively segment customers for improved marketing and personalized experiences?"
   ]
  },
  {
   "cell_type": "markdown",
   "id": "46d57957",
   "metadata": {},
   "source": [
    "**1.) What product sold the most ?**"
   ]
  },
  {
   "cell_type": "code",
   "execution_count": 42,
   "id": "21fe8de4",
   "metadata": {},
   "outputs": [
    {
     "data": {
      "text/html": [
       "<div>\n",
       "<style scoped>\n",
       "    .dataframe tbody tr th:only-of-type {\n",
       "        vertical-align: middle;\n",
       "    }\n",
       "\n",
       "    .dataframe tbody tr th {\n",
       "        vertical-align: top;\n",
       "    }\n",
       "\n",
       "    .dataframe thead th {\n",
       "        text-align: right;\n",
       "    }\n",
       "</style>\n",
       "<table border=\"1\" class=\"dataframe\">\n",
       "  <thead>\n",
       "    <tr style=\"text-align: right;\">\n",
       "      <th></th>\n",
       "      <th>Description</th>\n",
       "      <th>Quantity</th>\n",
       "    </tr>\n",
       "  </thead>\n",
       "  <tbody>\n",
       "    <tr>\n",
       "      <th>2238</th>\n",
       "      <td>PAPER CRAFT , LITTLE BIRDIE</td>\n",
       "      <td>80995</td>\n",
       "    </tr>\n",
       "    <tr>\n",
       "      <th>1918</th>\n",
       "      <td>MEDIUM CERAMIC TOP STORAGE JAR</td>\n",
       "      <td>78033</td>\n",
       "    </tr>\n",
       "    <tr>\n",
       "      <th>2517</th>\n",
       "      <td>POPCORN HOLDER</td>\n",
       "      <td>56898</td>\n",
       "    </tr>\n",
       "    <tr>\n",
       "      <th>3712</th>\n",
       "      <td>WORLD WAR 2 GLIDERS ASSTD DESIGNS</td>\n",
       "      <td>54951</td>\n",
       "    </tr>\n",
       "    <tr>\n",
       "      <th>1703</th>\n",
       "      <td>JUMBO BAG RED RETROSPOT</td>\n",
       "      <td>48371</td>\n",
       "    </tr>\n",
       "  </tbody>\n",
       "</table>\n",
       "</div>"
      ],
      "text/plain": [
       "                            Description  Quantity\n",
       "2238        PAPER CRAFT , LITTLE BIRDIE     80995\n",
       "1918     MEDIUM CERAMIC TOP STORAGE JAR     78033\n",
       "2517                     POPCORN HOLDER     56898\n",
       "3712  WORLD WAR 2 GLIDERS ASSTD DESIGNS     54951\n",
       "1703            JUMBO BAG RED RETROSPOT     48371"
      ]
     },
     "execution_count": 42,
     "metadata": {},
     "output_type": "execute_result"
    }
   ],
   "source": [
    "# Calculating the total quantity by product 'Descrption'\n",
    "most_sold = df.groupby(['Description'])['Quantity'].sum().reset_index().sort_values('Quantity', ascending=False).head(5)\n",
    "most_sold"
   ]
  },
  {
   "cell_type": "code",
   "execution_count": 43,
   "id": "1279cda8",
   "metadata": {},
   "outputs": [
    {
     "data": {
      "image/png": "[encoded data removed]",
      "text/plain": [
       "<Figure size 800x400 with 1 Axes>"
      ]
     },
     "metadata": {},
     "output_type": "display_data"
    }
   ],
   "source": [
    "# Visualizing the most sold products\n",
    "plt.figure(figsize=(8,4))\n",
    "ax = sns.barplot(data=most_sold, y='Description', x='Quantity', palette='rocket')\n",
    "plt.title('Most sold products')\n",
    "plt.xlabel('Quantity')\n",
    "plt.xticks(fontsize=12)\n",
    "plt.ylabel('Description')\n",
    "plt.show()\n"
   ]
  },
  {
   "cell_type": "markdown",
   "id": "6c08cba0",
   "metadata": {},
   "source": [
    "We can see that these items are sold the most from the company's website, out of them Paper Craft are sold most with approx 81k quantity"
   ]
  },
  {
   "cell_type": "markdown",
   "id": "8f6aecba",
   "metadata": {},
   "source": [
    "**2) What Products are most often sold together ?**"
   ]
  },
  {
   "cell_type": "code",
   "execution_count": 44,
   "id": "3ac76a84",
   "metadata": {},
   "outputs": [],
   "source": [
    "sold_together = df.groupby(\"InvoiceNo\")['Description'].agg(lambda x : \" , \".join(x)).reset_index()"
   ]
  },
  {
   "cell_type": "code",
   "execution_count": 45,
   "id": "b9a98e14",
   "metadata": {},
   "outputs": [
    {
     "data": {
      "text/html": [
       "<div>\n",
       "<style scoped>\n",
       "    .dataframe tbody tr th:only-of-type {\n",
       "        vertical-align: middle;\n",
       "    }\n",
       "\n",
       "    .dataframe tbody tr th {\n",
       "        vertical-align: top;\n",
       "    }\n",
       "\n",
       "    .dataframe thead th {\n",
       "        text-align: right;\n",
       "    }\n",
       "</style>\n",
       "<table border=\"1\" class=\"dataframe\">\n",
       "  <thead>\n",
       "    <tr style=\"text-align: right;\">\n",
       "      <th></th>\n",
       "      <th>InvoiceNo</th>\n",
       "      <th>Description</th>\n",
       "    </tr>\n",
       "  </thead>\n",
       "  <tbody>\n",
       "    <tr>\n",
       "      <th>0</th>\n",
       "      <td>536365</td>\n",
       "      <td>WHITE HANGING HEART T-LIGHT HOLDER , WHITE MET...</td>\n",
       "    </tr>\n",
       "    <tr>\n",
       "      <th>1</th>\n",
       "      <td>536366</td>\n",
       "      <td>HAND WARMER UNION JACK , HAND WARMER RED RETRO...</td>\n",
       "    </tr>\n",
       "    <tr>\n",
       "      <th>2</th>\n",
       "      <td>536367</td>\n",
       "      <td>ASSORTED COLOUR BIRD ORNAMENT , POPPY'S PLAYHO...</td>\n",
       "    </tr>\n",
       "    <tr>\n",
       "      <th>3</th>\n",
       "      <td>536368</td>\n",
       "      <td>JAM MAKING SET WITH JARS , RED COAT RACK PARIS...</td>\n",
       "    </tr>\n",
       "    <tr>\n",
       "      <th>4</th>\n",
       "      <td>536369</td>\n",
       "      <td>BATH BUILDING BLOCK WORD</td>\n",
       "    </tr>\n",
       "    <tr>\n",
       "      <th>...</th>\n",
       "      <td>...</td>\n",
       "      <td>...</td>\n",
       "    </tr>\n",
       "    <tr>\n",
       "      <th>19954</th>\n",
       "      <td>581583</td>\n",
       "      <td>LUNCH BAG RED RETROSPOT , 6 CHOCOLATE LOVE HEA...</td>\n",
       "    </tr>\n",
       "    <tr>\n",
       "      <th>19955</th>\n",
       "      <td>581584</td>\n",
       "      <td>RED FLOCK LOVE HEART PHOTO FRAME , 6 CHOCOLATE...</td>\n",
       "    </tr>\n",
       "    <tr>\n",
       "      <th>19956</th>\n",
       "      <td>581585</td>\n",
       "      <td>BLACK TEA TOWEL CLASSIC DESIGN , ASSORTED BOTT...</td>\n",
       "    </tr>\n",
       "    <tr>\n",
       "      <th>19957</th>\n",
       "      <td>581586</td>\n",
       "      <td>LARGE CAKE STAND  HANGING STRAWBERY , SET OF 3...</td>\n",
       "    </tr>\n",
       "    <tr>\n",
       "      <th>19958</th>\n",
       "      <td>581587</td>\n",
       "      <td>CIRCUS PARADE LUNCH BOX  , PLASTERS IN TIN CIR...</td>\n",
       "    </tr>\n",
       "  </tbody>\n",
       "</table>\n",
       "<p>19959 rows × 2 columns</p>\n",
       "</div>"
      ],
      "text/plain": [
       "      InvoiceNo                                        Description\n",
       "0        536365  WHITE HANGING HEART T-LIGHT HOLDER , WHITE MET...\n",
       "1        536366  HAND WARMER UNION JACK , HAND WARMER RED RETRO...\n",
       "2        536367  ASSORTED COLOUR BIRD ORNAMENT , POPPY'S PLAYHO...\n",
       "3        536368  JAM MAKING SET WITH JARS , RED COAT RACK PARIS...\n",
       "4        536369                           BATH BUILDING BLOCK WORD\n",
       "...         ...                                                ...\n",
       "19954    581583  LUNCH BAG RED RETROSPOT , 6 CHOCOLATE LOVE HEA...\n",
       "19955    581584  RED FLOCK LOVE HEART PHOTO FRAME , 6 CHOCOLATE...\n",
       "19956    581585  BLACK TEA TOWEL CLASSIC DESIGN , ASSORTED BOTT...\n",
       "19957    581586  LARGE CAKE STAND  HANGING STRAWBERY , SET OF 3...\n",
       "19958    581587  CIRCUS PARADE LUNCH BOX  , PLASTERS IN TIN CIR...\n",
       "\n",
       "[19959 rows x 2 columns]"
      ]
     },
     "execution_count": 45,
     "metadata": {},
     "output_type": "execute_result"
    }
   ],
   "source": [
    "sold_together #we got items that are sold together, separated by \",\""
   ]
  },
  {
   "cell_type": "code",
   "execution_count": 46,
   "id": "e43e59bc",
   "metadata": {
    "scrolled": true
   },
   "outputs": [
    {
     "name": "stdout",
     "output_type": "stream",
     "text": [
      "(' KEY FOB ', ' KEY FOB ') 512\n",
      "(' KEY FOB ', ' BACK DOOR  ') 487\n",
      "(' JUMBO BAG PINK POLKADOT ', ' JUMBO BAG RED RETROSPOT ') 477\n",
      "(' KEY FOB ', ' SHED ') 468\n",
      "(' GREEN REGENCY TEACUP AND SAUCER ', ' ROSES REGENCY TEACUP AND SAUCER  ') 443\n",
      "('COFFEE', 'SUGAR ') 432\n",
      "(' JUMBO SHOPPER VINTAGE RED PAISLEY ', ' JUMBO BAG RED RETROSPOT ') 427\n",
      "(' SET 3 RETROSPOT TEA', 'COFFEE') 426\n",
      "(' KEY FOB ', ' FRONT  DOOR  ') 420\n",
      "(' SET 3 RETROSPOT TEA', 'SUGAR ') 414\n"
     ]
    }
   ],
   "source": [
    "from itertools import combinations\n",
    "from collections import Counter\n",
    "count = Counter()\n",
    "for row in sold_together['Description']:\n",
    "    row_list = row.split(\",\")\n",
    "    #item mostly solved together , here it shows 2 items sold together,we can change it to 3\n",
    "    #to show 3 items sold together and so on ...\n",
    "    count.update(Counter(combinations(row_list,2)))\n",
    "#most_common is method from collections\n",
    "for key,value in count.most_common(10):\n",
    "    print(key,value)"
   ]
  },
  {
   "cell_type": "markdown",
   "id": "b42064bc",
   "metadata": {},
   "source": [
    "Analysis (Pair Products) : we can see that Key Fob are mostly sold with extra pair of Key Fob or with Back Door. And so on...\n",
    "<br>FeedBack : we can recommend our customer in buying these items while purchasing for one item, this way we can enhance sales."
   ]
  },
  {
   "cell_type": "markdown",
   "id": "715846ec",
   "metadata": {},
   "source": [
    "**3) Which are the countries with the most amount of customers?**"
   ]
  },
  {
   "cell_type": "code",
   "execution_count": 47,
   "id": "35e37ee6",
   "metadata": {},
   "outputs": [
    {
     "data": {
      "text/html": [
       "<div>\n",
       "<style scoped>\n",
       "    .dataframe tbody tr th:only-of-type {\n",
       "        vertical-align: middle;\n",
       "    }\n",
       "\n",
       "    .dataframe tbody tr th {\n",
       "        vertical-align: top;\n",
       "    }\n",
       "\n",
       "    .dataframe thead th {\n",
       "        text-align: right;\n",
       "    }\n",
       "</style>\n",
       "<table border=\"1\" class=\"dataframe\">\n",
       "  <thead>\n",
       "    <tr style=\"text-align: right;\">\n",
       "      <th></th>\n",
       "      <th>Country</th>\n",
       "      <th>CustomerID</th>\n",
       "    </tr>\n",
       "  </thead>\n",
       "  <tbody>\n",
       "    <tr>\n",
       "      <th>36</th>\n",
       "      <td>United Kingdom</td>\n",
       "      <td>3921</td>\n",
       "    </tr>\n",
       "    <tr>\n",
       "      <th>14</th>\n",
       "      <td>Germany</td>\n",
       "      <td>94</td>\n",
       "    </tr>\n",
       "    <tr>\n",
       "      <th>13</th>\n",
       "      <td>France</td>\n",
       "      <td>88</td>\n",
       "    </tr>\n",
       "    <tr>\n",
       "      <th>31</th>\n",
       "      <td>Spain</td>\n",
       "      <td>30</td>\n",
       "    </tr>\n",
       "    <tr>\n",
       "      <th>3</th>\n",
       "      <td>Belgium</td>\n",
       "      <td>25</td>\n",
       "    </tr>\n",
       "    <tr>\n",
       "      <th>33</th>\n",
       "      <td>Switzerland</td>\n",
       "      <td>22</td>\n",
       "    </tr>\n",
       "    <tr>\n",
       "      <th>27</th>\n",
       "      <td>Portugal</td>\n",
       "      <td>20</td>\n",
       "    </tr>\n",
       "    <tr>\n",
       "      <th>19</th>\n",
       "      <td>Italy</td>\n",
       "      <td>14</td>\n",
       "    </tr>\n",
       "    <tr>\n",
       "      <th>12</th>\n",
       "      <td>Finland</td>\n",
       "      <td>12</td>\n",
       "    </tr>\n",
       "    <tr>\n",
       "      <th>1</th>\n",
       "      <td>Austria</td>\n",
       "      <td>11</td>\n",
       "    </tr>\n",
       "  </tbody>\n",
       "</table>\n",
       "</div>"
      ],
      "text/plain": [
       "           Country  CustomerID\n",
       "36  United Kingdom        3921\n",
       "14         Germany          94\n",
       "13          France          88\n",
       "31           Spain          30\n",
       "3          Belgium          25\n",
       "33     Switzerland          22\n",
       "27        Portugal          20\n",
       "19           Italy          14\n",
       "12         Finland          12\n",
       "1          Austria          11"
      ]
     },
     "execution_count": 47,
     "metadata": {},
     "output_type": "execute_result"
    }
   ],
   "source": [
    "# Calculating amount of customers by country\n",
    "top_countries = df.groupby(['Country'])['CustomerID'].nunique().reset_index().sort_values('CustomerID', ascending=False).head(10)\n",
    "top_countries"
   ]
  },
  {
   "cell_type": "code",
   "execution_count": 48,
   "id": "70197d72",
   "metadata": {},
   "outputs": [
    {
     "data": {
      "image/png": "[encoded data removed]",
      "text/plain": [
       "<Figure size 1000x500 with 1 Axes>"
      ]
     },
     "metadata": {},
     "output_type": "display_data"
    }
   ],
   "source": [
    "# Visualizing the top 10 countries by amount tof customers \n",
    "plt.figure(figsize=(10,5))\n",
    "ax = sns.barplot(data=top_countries, x= 'Country', y= 'CustomerID', palette='rocket')\n",
    "plt.title('Top 10 Countries by Amount of Customers', fontsize=20)\n",
    "ax.bar_label(ax.containers[0], fontsize=12)\n",
    "plt.ylabel('Count')\n",
    "plt.xticks(fontsize=14)\n",
    "plt.yscale('log')\n",
    "plt.show()"
   ]
  },
  {
   "cell_type": "code",
   "execution_count": 49,
   "id": "f1e0e44a",
   "metadata": {},
   "outputs": [
    {
     "data": {
      "text/html": [
       "<div>\n",
       "<style scoped>\n",
       "    .dataframe tbody tr th:only-of-type {\n",
       "        vertical-align: middle;\n",
       "    }\n",
       "\n",
       "    .dataframe tbody tr th {\n",
       "        vertical-align: top;\n",
       "    }\n",
       "\n",
       "    .dataframe thead th {\n",
       "        text-align: right;\n",
       "    }\n",
       "</style>\n",
       "<table border=\"1\" class=\"dataframe\">\n",
       "  <thead>\n",
       "    <tr style=\"text-align: right;\">\n",
       "      <th></th>\n",
       "      <th>Country</th>\n",
       "      <th>Total of Sales</th>\n",
       "    </tr>\n",
       "  </thead>\n",
       "  <tbody>\n",
       "    <tr>\n",
       "      <th>24</th>\n",
       "      <td>Netherlands</td>\n",
       "      <td>121.00</td>\n",
       "    </tr>\n",
       "    <tr>\n",
       "      <th>0</th>\n",
       "      <td>Australia</td>\n",
       "      <td>117.23</td>\n",
       "    </tr>\n",
       "    <tr>\n",
       "      <th>20</th>\n",
       "      <td>Japan</td>\n",
       "      <td>116.56</td>\n",
       "    </tr>\n",
       "    <tr>\n",
       "      <th>30</th>\n",
       "      <td>Singapore</td>\n",
       "      <td>95.85</td>\n",
       "    </tr>\n",
       "    <tr>\n",
       "      <th>32</th>\n",
       "      <td>Sweden</td>\n",
       "      <td>85.26</td>\n",
       "    </tr>\n",
       "    <tr>\n",
       "      <th>16</th>\n",
       "      <td>Hong Kong</td>\n",
       "      <td>55.30</td>\n",
       "    </tr>\n",
       "    <tr>\n",
       "      <th>9</th>\n",
       "      <td>Denmark</td>\n",
       "      <td>49.88</td>\n",
       "    </tr>\n",
       "    <tr>\n",
       "      <th>22</th>\n",
       "      <td>Lithuania</td>\n",
       "      <td>47.46</td>\n",
       "    </tr>\n",
       "    <tr>\n",
       "      <th>2</th>\n",
       "      <td>Bahrain</td>\n",
       "      <td>41.90</td>\n",
       "    </tr>\n",
       "    <tr>\n",
       "      <th>21</th>\n",
       "      <td>Lebanon</td>\n",
       "      <td>37.64</td>\n",
       "    </tr>\n",
       "  </tbody>\n",
       "</table>\n",
       "</div>"
      ],
      "text/plain": [
       "        Country  Total of Sales\n",
       "24  Netherlands          121.00\n",
       "0     Australia          117.23\n",
       "20        Japan          116.56\n",
       "30    Singapore           95.85\n",
       "32       Sweden           85.26\n",
       "16    Hong Kong           55.30\n",
       "9       Denmark           49.88\n",
       "22    Lithuania           47.46\n",
       "2       Bahrain           41.90\n",
       "21      Lebanon           37.64"
      ]
     },
     "execution_count": 49,
     "metadata": {},
     "output_type": "execute_result"
    }
   ],
   "source": [
    "# Calculating average sales per customer by Country\n",
    "average_sales_country = df.groupby(['Country'])['Total of Sales'].mean().round(2).reset_index().sort_values('Total of Sales', ascending=False).head(10)\n",
    "average_sales_country"
   ]
  },
  {
   "cell_type": "code",
   "execution_count": 50,
   "id": "06191801",
   "metadata": {},
   "outputs": [
    {
     "data": {
      "image/png": "[encoded data removed]",
      "text/plain": [
       "<Figure size 800x500 with 1 Axes>"
      ]
     },
     "metadata": {},
     "output_type": "display_data"
    }
   ],
   "source": [
    "# Visualize Top Countries by their average sales per cusotmer \n",
    "plt.figure(figsize=(8,5))\n",
    "ax = sns.barplot(data = average_sales_country, x= 'Total of Sales', y='Country', palette='rocket')\n",
    "plt.title('Top Countries by Average Sales per Customer', fontsize=18)\n",
    "plt.xlabel('Average')\n",
    "plt.xticks(fontsize=12)\n",
    "ax.bar_label(ax.containers[0])\n",
    "plt.show()"
   ]
  },
  {
   "cell_type": "markdown",
   "id": "b787b8cd",
   "metadata": {},
   "source": [
    "In the analysis, we observe that Netherlands, Australia, and Japan stand out with the highest average sales per customer. Surprisingly, although the United Kingdom has the most customers, it does not rank among the top 10 countries in terms of average sales per customer.\n",
    "\n",
    "This finding highlights the importance of looking at how much customers spend in different countries instead of just counting how many customers there are. It helps us understand which countries are more financially rewarding markets based on how much each customer spends on average."
   ]
  },
  {
   "cell_type": "markdown",
   "id": "156a3977",
   "metadata": {},
   "source": [
    "**5) Are there any seasonal patterns or trends in sales data over different time periods?**\n",
    "- Let's explore the data by analyzing sales trends based on 'Year', 'Month', 'Day' and 'Time'. By examining these different time frames, we may uncover any patterns or trends that could provide valuable insights."
   ]
  },
  {
   "cell_type": "code",
   "execution_count": 51,
   "id": "8ffae2d5",
   "metadata": {},
   "outputs": [
    {
     "data": {
      "text/html": [
       "<div>\n",
       "<style scoped>\n",
       "    .dataframe tbody tr th:only-of-type {\n",
       "        vertical-align: middle;\n",
       "    }\n",
       "\n",
       "    .dataframe tbody tr th {\n",
       "        vertical-align: top;\n",
       "    }\n",
       "\n",
       "    .dataframe thead th {\n",
       "        text-align: right;\n",
       "    }\n",
       "</style>\n",
       "<table border=\"1\" class=\"dataframe\">\n",
       "  <thead>\n",
       "    <tr style=\"text-align: right;\">\n",
       "      <th></th>\n",
       "      <th>Year</th>\n",
       "      <th>InvoiceNo</th>\n",
       "    </tr>\n",
       "  </thead>\n",
       "  <tbody>\n",
       "    <tr>\n",
       "      <th>1</th>\n",
       "      <td>2011</td>\n",
       "      <td>18400</td>\n",
       "    </tr>\n",
       "    <tr>\n",
       "      <th>0</th>\n",
       "      <td>2010</td>\n",
       "      <td>1559</td>\n",
       "    </tr>\n",
       "  </tbody>\n",
       "</table>\n",
       "</div>"
      ],
      "text/plain": [
       "   Year  InvoiceNo\n",
       "1  2011      18400\n",
       "0  2010       1559"
      ]
     },
     "execution_count": 51,
     "metadata": {},
     "output_type": "execute_result"
    }
   ],
   "source": [
    "#Calculating amount of total sales by year\n",
    "total_sales_year = df.groupby(['Year'])['InvoiceNo'].nunique().reset_index().sort_values('Year', ascending=False).head(10)\n",
    "total_sales_year"
   ]
  },
  {
   "cell_type": "code",
   "execution_count": 52,
   "id": "ccd840a3",
   "metadata": {
    "scrolled": true
   },
   "outputs": [
    {
     "data": {
      "image/png": "[encoded data removed]",
      "text/plain": [
       "<Figure size 600x300 with 1 Axes>"
      ]
     },
     "metadata": {},
     "output_type": "display_data"
    }
   ],
   "source": [
    "plt.figure(figsize=(6,3))\n",
    "ax = sns.barplot(data=total_sales_year, x= 'Year', y= 'InvoiceNo', palette='rocket')\n",
    "plt.title('Number of Sales by Year')\n",
    "plt.xlabel('Year')\n",
    "plt.xticks(fontsize=8)\n",
    "plt.ylabel('Number of Sales')\n",
    "plt.show()"
   ]
  },
  {
   "cell_type": "code",
   "execution_count": 53,
   "id": "e17b8fe9",
   "metadata": {},
   "outputs": [
    {
     "data": {
      "text/plain": [
       "10.802437459910198"
      ]
     },
     "execution_count": 53,
     "metadata": {},
     "output_type": "execute_result"
    }
   ],
   "source": [
    "(18400-1559)/1559"
   ]
  },
  {
   "cell_type": "markdown",
   "id": "98b940a7",
   "metadata": {},
   "source": [
    "In 2011, the total sales reached a significant high, indicating a substantial increase compared to the previous years. The total sales for 2011 were 18400, which is 1080% higher than the total sales in the previous year."
   ]
  },
  {
   "cell_type": "code",
   "execution_count": 55,
   "id": "43cf90c5",
   "metadata": {},
   "outputs": [
    {
     "data": {
      "text/html": [
       "<div>\n",
       "<style scoped>\n",
       "    .dataframe tbody tr th:only-of-type {\n",
       "        vertical-align: middle;\n",
       "    }\n",
       "\n",
       "    .dataframe tbody tr th {\n",
       "        vertical-align: top;\n",
       "    }\n",
       "\n",
       "    .dataframe thead th {\n",
       "        text-align: right;\n",
       "    }\n",
       "</style>\n",
       "<table border=\"1\" class=\"dataframe\">\n",
       "  <thead>\n",
       "    <tr style=\"text-align: right;\">\n",
       "      <th></th>\n",
       "      <th>Month</th>\n",
       "      <th>InvoiceNo</th>\n",
       "    </tr>\n",
       "  </thead>\n",
       "  <tbody>\n",
       "    <tr>\n",
       "      <th>0</th>\n",
       "      <td>1</td>\n",
       "      <td>1086</td>\n",
       "    </tr>\n",
       "    <tr>\n",
       "      <th>1</th>\n",
       "      <td>2</td>\n",
       "      <td>1100</td>\n",
       "    </tr>\n",
       "    <tr>\n",
       "      <th>2</th>\n",
       "      <td>3</td>\n",
       "      <td>1454</td>\n",
       "    </tr>\n",
       "    <tr>\n",
       "      <th>3</th>\n",
       "      <td>4</td>\n",
       "      <td>1246</td>\n",
       "    </tr>\n",
       "    <tr>\n",
       "      <th>4</th>\n",
       "      <td>5</td>\n",
       "      <td>1681</td>\n",
       "    </tr>\n",
       "    <tr>\n",
       "      <th>5</th>\n",
       "      <td>6</td>\n",
       "      <td>1533</td>\n",
       "    </tr>\n",
       "    <tr>\n",
       "      <th>6</th>\n",
       "      <td>7</td>\n",
       "      <td>1475</td>\n",
       "    </tr>\n",
       "    <tr>\n",
       "      <th>7</th>\n",
       "      <td>8</td>\n",
       "      <td>1360</td>\n",
       "    </tr>\n",
       "    <tr>\n",
       "      <th>8</th>\n",
       "      <td>9</td>\n",
       "      <td>1837</td>\n",
       "    </tr>\n",
       "    <tr>\n",
       "      <th>9</th>\n",
       "      <td>10</td>\n",
       "      <td>2040</td>\n",
       "    </tr>\n",
       "    <tr>\n",
       "      <th>10</th>\n",
       "      <td>11</td>\n",
       "      <td>2769</td>\n",
       "    </tr>\n",
       "    <tr>\n",
       "      <th>11</th>\n",
       "      <td>12</td>\n",
       "      <td>2378</td>\n",
       "    </tr>\n",
       "  </tbody>\n",
       "</table>\n",
       "</div>"
      ],
      "text/plain": [
       "    Month  InvoiceNo\n",
       "0       1       1086\n",
       "1       2       1100\n",
       "2       3       1454\n",
       "3       4       1246\n",
       "4       5       1681\n",
       "5       6       1533\n",
       "6       7       1475\n",
       "7       8       1360\n",
       "8       9       1837\n",
       "9      10       2040\n",
       "10     11       2769\n",
       "11     12       2378"
      ]
     },
     "execution_count": 55,
     "metadata": {},
     "output_type": "execute_result"
    }
   ],
   "source": [
    "# Calculating the amount of invoce realized by month\n",
    "invoice_month = df.groupby(['Month'])['InvoiceNo'].nunique().reset_index().sort_values('Month')\n",
    "invoice_month"
   ]
  },
  {
   "cell_type": "code",
   "execution_count": 56,
   "id": "c3ad6811",
   "metadata": {},
   "outputs": [
    {
     "data": {
      "image/png": "[encoded data removed]",
      "text/plain": [
       "<Figure size 1000x500 with 1 Axes>"
      ]
     },
     "metadata": {},
     "output_type": "display_data"
    }
   ],
   "source": [
    "# Visualizing the sales realized by Month\n",
    "plt.figure(figsize=(10,5))\n",
    "ax = sns.barplot(data= invoice_month, x='Month', y='InvoiceNo', palette='rocket_r')\n",
    "plt.title('Number of Sales by Month')\n",
    "plt.ylabel('Number of Sales')\n",
    "ax.bar_label(ax.containers[0])\n",
    "plt.show()"
   ]
  },
  {
   "cell_type": "markdown",
   "id": "ad13a04b",
   "metadata": {},
   "source": [
    "As observed, the sales data reveals a notable increase starting from September, continuing through November, and culminating in a significant decline in December.\n",
    "\n",
    "This trend could indicate a seasonal upswing in sales during the latter part of the year, likely influenced by factors such as holiday shopping and year-end promotions."
   ]
  },
  {
   "cell_type": "code",
   "execution_count": 57,
   "id": "ea741f77",
   "metadata": {},
   "outputs": [
    {
     "data": {
      "text/html": [
       "<div>\n",
       "<style scoped>\n",
       "    .dataframe tbody tr th:only-of-type {\n",
       "        vertical-align: middle;\n",
       "    }\n",
       "\n",
       "    .dataframe tbody tr th {\n",
       "        vertical-align: top;\n",
       "    }\n",
       "\n",
       "    .dataframe thead th {\n",
       "        text-align: right;\n",
       "    }\n",
       "</style>\n",
       "<table border=\"1\" class=\"dataframe\">\n",
       "  <thead>\n",
       "    <tr style=\"text-align: right;\">\n",
       "      <th></th>\n",
       "      <th>Day</th>\n",
       "      <th>InvoiceNo</th>\n",
       "    </tr>\n",
       "  </thead>\n",
       "  <tbody>\n",
       "    <tr>\n",
       "      <th>0</th>\n",
       "      <td>1</td>\n",
       "      <td>750</td>\n",
       "    </tr>\n",
       "    <tr>\n",
       "      <th>1</th>\n",
       "      <td>2</td>\n",
       "      <td>658</td>\n",
       "    </tr>\n",
       "    <tr>\n",
       "      <th>2</th>\n",
       "      <td>3</td>\n",
       "      <td>553</td>\n",
       "    </tr>\n",
       "    <tr>\n",
       "      <th>3</th>\n",
       "      <td>4</td>\n",
       "      <td>686</td>\n",
       "    </tr>\n",
       "    <tr>\n",
       "      <th>4</th>\n",
       "      <td>5</td>\n",
       "      <td>770</td>\n",
       "    </tr>\n",
       "    <tr>\n",
       "      <th>5</th>\n",
       "      <td>6</td>\n",
       "      <td>842</td>\n",
       "    </tr>\n",
       "    <tr>\n",
       "      <th>6</th>\n",
       "      <td>7</td>\n",
       "      <td>834</td>\n",
       "    </tr>\n",
       "    <tr>\n",
       "      <th>7</th>\n",
       "      <td>8</td>\n",
       "      <td>851</td>\n",
       "    </tr>\n",
       "    <tr>\n",
       "      <th>8</th>\n",
       "      <td>9</td>\n",
       "      <td>699</td>\n",
       "    </tr>\n",
       "    <tr>\n",
       "      <th>9</th>\n",
       "      <td>10</td>\n",
       "      <td>694</td>\n",
       "    </tr>\n",
       "    <tr>\n",
       "      <th>10</th>\n",
       "      <td>11</td>\n",
       "      <td>683</td>\n",
       "    </tr>\n",
       "    <tr>\n",
       "      <th>11</th>\n",
       "      <td>12</td>\n",
       "      <td>535</td>\n",
       "    </tr>\n",
       "    <tr>\n",
       "      <th>12</th>\n",
       "      <td>13</td>\n",
       "      <td>632</td>\n",
       "    </tr>\n",
       "    <tr>\n",
       "      <th>13</th>\n",
       "      <td>14</td>\n",
       "      <td>717</td>\n",
       "    </tr>\n",
       "    <tr>\n",
       "      <th>14</th>\n",
       "      <td>15</td>\n",
       "      <td>611</td>\n",
       "    </tr>\n",
       "    <tr>\n",
       "      <th>15</th>\n",
       "      <td>16</td>\n",
       "      <td>680</td>\n",
       "    </tr>\n",
       "    <tr>\n",
       "      <th>16</th>\n",
       "      <td>17</td>\n",
       "      <td>754</td>\n",
       "    </tr>\n",
       "    <tr>\n",
       "      <th>17</th>\n",
       "      <td>18</td>\n",
       "      <td>639</td>\n",
       "    </tr>\n",
       "    <tr>\n",
       "      <th>18</th>\n",
       "      <td>19</td>\n",
       "      <td>555</td>\n",
       "    </tr>\n",
       "    <tr>\n",
       "      <th>19</th>\n",
       "      <td>20</td>\n",
       "      <td>711</td>\n",
       "    </tr>\n",
       "    <tr>\n",
       "      <th>20</th>\n",
       "      <td>21</td>\n",
       "      <td>671</td>\n",
       "    </tr>\n",
       "    <tr>\n",
       "      <th>21</th>\n",
       "      <td>22</td>\n",
       "      <td>598</td>\n",
       "    </tr>\n",
       "    <tr>\n",
       "      <th>22</th>\n",
       "      <td>23</td>\n",
       "      <td>621</td>\n",
       "    </tr>\n",
       "    <tr>\n",
       "      <th>23</th>\n",
       "      <td>24</td>\n",
       "      <td>620</td>\n",
       "    </tr>\n",
       "    <tr>\n",
       "      <th>24</th>\n",
       "      <td>25</td>\n",
       "      <td>605</td>\n",
       "    </tr>\n",
       "    <tr>\n",
       "      <th>25</th>\n",
       "      <td>26</td>\n",
       "      <td>478</td>\n",
       "    </tr>\n",
       "    <tr>\n",
       "      <th>26</th>\n",
       "      <td>27</td>\n",
       "      <td>582</td>\n",
       "    </tr>\n",
       "    <tr>\n",
       "      <th>27</th>\n",
       "      <td>28</td>\n",
       "      <td>667</td>\n",
       "    </tr>\n",
       "    <tr>\n",
       "      <th>28</th>\n",
       "      <td>29</td>\n",
       "      <td>432</td>\n",
       "    </tr>\n",
       "    <tr>\n",
       "      <th>29</th>\n",
       "      <td>30</td>\n",
       "      <td>488</td>\n",
       "    </tr>\n",
       "    <tr>\n",
       "      <th>30</th>\n",
       "      <td>31</td>\n",
       "      <td>343</td>\n",
       "    </tr>\n",
       "  </tbody>\n",
       "</table>\n",
       "</div>"
      ],
      "text/plain": [
       "    Day  InvoiceNo\n",
       "0     1        750\n",
       "1     2        658\n",
       "2     3        553\n",
       "3     4        686\n",
       "4     5        770\n",
       "5     6        842\n",
       "6     7        834\n",
       "7     8        851\n",
       "8     9        699\n",
       "9    10        694\n",
       "10   11        683\n",
       "11   12        535\n",
       "12   13        632\n",
       "13   14        717\n",
       "14   15        611\n",
       "15   16        680\n",
       "16   17        754\n",
       "17   18        639\n",
       "18   19        555\n",
       "19   20        711\n",
       "20   21        671\n",
       "21   22        598\n",
       "22   23        621\n",
       "23   24        620\n",
       "24   25        605\n",
       "25   26        478\n",
       "26   27        582\n",
       "27   28        667\n",
       "28   29        432\n",
       "29   30        488\n",
       "30   31        343"
      ]
     },
     "execution_count": 57,
     "metadata": {},
     "output_type": "execute_result"
    }
   ],
   "source": [
    "# Calculating the amount of invoce realized by day\n",
    "invoice_day = df.groupby(['Day'])['InvoiceNo'].nunique().reset_index().sort_values('Day')\n",
    "invoice_day"
   ]
  },
  {
   "cell_type": "code",
   "execution_count": 58,
   "id": "15dd992c",
   "metadata": {},
   "outputs": [
    {
     "data": {
      "image/png": "[encoded data removed]",
      "text/plain": [
       "<Figure size 1000x800 with 1 Axes>"
      ]
     },
     "metadata": {},
     "output_type": "display_data"
    }
   ],
   "source": [
    "# Visuzlizing the number of sales by Day\n",
    "plt.figure(figsize=(10,8))\n",
    "ax = sns.barplot(data= invoice_day, x='Day', y='InvoiceNo')\n",
    "plt.title('Sales by Day')\n",
    "ax.bar_label(ax.containers[0])\n",
    "plt.ylabel('Sales')\n",
    "plt.show()"
   ]
  },
  {
   "cell_type": "markdown",
   "id": "6486a24f",
   "metadata": {},
   "source": [
    "As we analyze the data, a notable trend emerges: the highest purchase activity occurs between the 6th, 7th, and 8th of each month. Conversely, towards the end of the month, we observe a decline in purchases.\n",
    "\n",
    "This pattern indicates that customers tend to be more active in making purchases during the early days of the month, while there is a lull towards the end."
   ]
  },
  {
   "cell_type": "code",
   "execution_count": 59,
   "id": "72c2afbf",
   "metadata": {},
   "outputs": [
    {
     "data": {
      "text/html": [
       "<div>\n",
       "<style scoped>\n",
       "    .dataframe tbody tr th:only-of-type {\n",
       "        vertical-align: middle;\n",
       "    }\n",
       "\n",
       "    .dataframe tbody tr th {\n",
       "        vertical-align: top;\n",
       "    }\n",
       "\n",
       "    .dataframe thead th {\n",
       "        text-align: right;\n",
       "    }\n",
       "</style>\n",
       "<table border=\"1\" class=\"dataframe\">\n",
       "  <thead>\n",
       "    <tr style=\"text-align: right;\">\n",
       "      <th></th>\n",
       "      <th>Hour</th>\n",
       "      <th>InvoiceNo</th>\n",
       "    </tr>\n",
       "  </thead>\n",
       "  <tbody>\n",
       "    <tr>\n",
       "      <th>0</th>\n",
       "      <td>6</td>\n",
       "      <td>1</td>\n",
       "    </tr>\n",
       "    <tr>\n",
       "      <th>1</th>\n",
       "      <td>7</td>\n",
       "      <td>29</td>\n",
       "    </tr>\n",
       "    <tr>\n",
       "      <th>2</th>\n",
       "      <td>8</td>\n",
       "      <td>566</td>\n",
       "    </tr>\n",
       "    <tr>\n",
       "      <th>3</th>\n",
       "      <td>9</td>\n",
       "      <td>1484</td>\n",
       "    </tr>\n",
       "    <tr>\n",
       "      <th>4</th>\n",
       "      <td>10</td>\n",
       "      <td>2361</td>\n",
       "    </tr>\n",
       "    <tr>\n",
       "      <th>5</th>\n",
       "      <td>11</td>\n",
       "      <td>2396</td>\n",
       "    </tr>\n",
       "    <tr>\n",
       "      <th>6</th>\n",
       "      <td>12</td>\n",
       "      <td>3220</td>\n",
       "    </tr>\n",
       "    <tr>\n",
       "      <th>7</th>\n",
       "      <td>13</td>\n",
       "      <td>2753</td>\n",
       "    </tr>\n",
       "    <tr>\n",
       "      <th>8</th>\n",
       "      <td>14</td>\n",
       "      <td>2456</td>\n",
       "    </tr>\n",
       "    <tr>\n",
       "      <th>9</th>\n",
       "      <td>15</td>\n",
       "      <td>2336</td>\n",
       "    </tr>\n",
       "    <tr>\n",
       "      <th>10</th>\n",
       "      <td>16</td>\n",
       "      <td>1335</td>\n",
       "    </tr>\n",
       "    <tr>\n",
       "      <th>11</th>\n",
       "      <td>17</td>\n",
       "      <td>667</td>\n",
       "    </tr>\n",
       "    <tr>\n",
       "      <th>12</th>\n",
       "      <td>18</td>\n",
       "      <td>192</td>\n",
       "    </tr>\n",
       "    <tr>\n",
       "      <th>13</th>\n",
       "      <td>19</td>\n",
       "      <td>146</td>\n",
       "    </tr>\n",
       "    <tr>\n",
       "      <th>14</th>\n",
       "      <td>20</td>\n",
       "      <td>18</td>\n",
       "    </tr>\n",
       "  </tbody>\n",
       "</table>\n",
       "</div>"
      ],
      "text/plain": [
       "    Hour  InvoiceNo\n",
       "0      6          1\n",
       "1      7         29\n",
       "2      8        566\n",
       "3      9       1484\n",
       "4     10       2361\n",
       "5     11       2396\n",
       "6     12       3220\n",
       "7     13       2753\n",
       "8     14       2456\n",
       "9     15       2336\n",
       "10    16       1335\n",
       "11    17        667\n",
       "12    18        192\n",
       "13    19        146\n",
       "14    20         18"
      ]
     },
     "execution_count": 59,
     "metadata": {},
     "output_type": "execute_result"
    }
   ],
   "source": [
    "# Calculating the amount of invoce realized by Hour\n",
    "invoice_hour = df.groupby(['Hour'])['InvoiceNo'].nunique().reset_index().sort_values('Hour')\n",
    "invoice_hour"
   ]
  },
  {
   "cell_type": "code",
   "execution_count": 60,
   "id": "5a0e7890",
   "metadata": {},
   "outputs": [
    {
     "data": {
      "image/png": "[encoded data removed]",
      "text/plain": [
       "<Figure size 640x480 with 1 Axes>"
      ]
     },
     "metadata": {},
     "output_type": "display_data"
    }
   ],
   "source": [
    "from matplotlib.ticker import StrMethodFormatter\n",
    "plt.plot(invoice_hour['Hour'],invoice_hour['InvoiceNo']/1000)\n",
    "plt.xlabel('Hour')\n",
    "plt.ylabel('Sales')\n",
    "plt.grid()\n",
    "formatter = StrMethodFormatter('{x:.0f}k')\n",
    "plt.gca().yaxis.set_major_formatter(formatter)\n",
    "plt.show()"
   ]
  },
  {
   "cell_type": "markdown",
   "id": "c854e58c",
   "metadata": {},
   "source": [
    "According to the data, the optimal timeframe for this e-commerce company to initiate advertising campaigns is around 12 PM, during which the highest sales are achieved. This may be linked to the increased availability of customers during their break times, making it more likely for them to use their mobile devices or computers during this period."
   ]
  },
  {
   "cell_type": "markdown",
   "id": "1c602072",
   "metadata": {},
   "source": [
    "**6) what strategies can be applied to effectively segment customers for improved marketing and personalized experiences?**"
   ]
  },
  {
   "cell_type": "markdown",
   "id": "99910438",
   "metadata": {},
   "source": [
    "**Customer Segmentation**\n",
    "<br>In this case, we're gonna use the RFM analysis (Recency, Frequency and Monetary) is a technique used for customer segmentation based on their purchasing behaviour.\n",
    "\n",
    "The term RFM comes from the function of three acronyms: Recency, Frequency, and Monetary, seeking to better understand the customer and verify when was his last purchase, how many times he has bought and how much he has spent with the company.\n",
    "\n",
    "Recency(R) Days since the customer's last purchase, Frequency(F) Number of products bought by thecustomer, Monetarity(M) Totalspent on purchases\n",
    "\n",
    "Customer Score:\n",
    "<br>The customer score ranges from 1 to 5, where the higher this number, the better. This score is assigned for each acronym independently:\n",
    "- The more recent the customer's purchase the higher the Recency (R) score.\n",
    "- The more purchases the customer makes, the higher the Frequency score (F)\n",
    "- The more the customer spends on purchases, the higher the score the customer will have Monetarity (M)\n",
    "- This definition of each score can be given through inference, i.e. some business definition or by quintile"
   ]
  },
  {
   "cell_type": "code",
   "execution_count": 61,
   "id": "ea12055a",
   "metadata": {},
   "outputs": [
    {
     "data": {
      "text/plain": [
       "InvoiceNo                 object\n",
       "StockCode                 object\n",
       "Description               object\n",
       "Quantity                   int64\n",
       "InvoiceDate       datetime64[ns]\n",
       "UnitPrice                float64\n",
       "CustomerID                object\n",
       "Country                   object\n",
       "Year                       int32\n",
       "Month                      int32\n",
       "Day                        int32\n",
       "Hour                       int32\n",
       "Total of Sales           float64\n",
       "dtype: object"
      ]
     },
     "execution_count": 61,
     "metadata": {},
     "output_type": "execute_result"
    }
   ],
   "source": [
    "df.dtypes"
   ]
  },
  {
   "cell_type": "code",
   "execution_count": 62,
   "id": "ed025800",
   "metadata": {},
   "outputs": [],
   "source": [
    "# Creating a new dataset for customer segmentation purpose\n",
    "cs_df = df.copy()\n",
    "cs_df['CustomerID'] = cs_df['CustomerID'].astype(object)\n",
    "cs_df = cs_df[cs_df['CustomerID'] != 0]\n",
    "cs_df = cs_df[cs_df['Total of Sales']>0]\n",
    "cs_df = cs_df[cs_df['Quantity']>0]\n",
    "cs_df.drop_duplicates(subset='InvoiceNo', inplace=True)"
   ]
  },
  {
   "cell_type": "code",
   "execution_count": 63,
   "id": "3363ebf2",
   "metadata": {},
   "outputs": [],
   "source": [
    "# Creating a new dataset for customer segmentation purpose\n",
    "recent_day = cs_df['InvoiceDate'].max()\n",
    "rfm = cs_df.groupby('CustomerID').agg({'InvoiceDate': lambda x:(recent_day - x.max()).days, \n",
    "                                    'InvoiceNo': 'nunique', \n",
    "                                    'Total of Sales': 'sum'})"
   ]
  },
  {
   "cell_type": "code",
   "execution_count": 64,
   "id": "e8daf335",
   "metadata": {},
   "outputs": [
    {
     "data": {
      "text/html": [
       "<div>\n",
       "<style scoped>\n",
       "    .dataframe tbody tr th:only-of-type {\n",
       "        vertical-align: middle;\n",
       "    }\n",
       "\n",
       "    .dataframe tbody tr th {\n",
       "        vertical-align: top;\n",
       "    }\n",
       "\n",
       "    .dataframe thead th {\n",
       "        text-align: right;\n",
       "    }\n",
       "</style>\n",
       "<table border=\"1\" class=\"dataframe\">\n",
       "  <thead>\n",
       "    <tr style=\"text-align: right;\">\n",
       "      <th></th>\n",
       "      <th>Recency</th>\n",
       "      <th>Frequency</th>\n",
       "      <th>Monetary</th>\n",
       "    </tr>\n",
       "    <tr>\n",
       "      <th>CustomerID</th>\n",
       "      <th></th>\n",
       "      <th></th>\n",
       "      <th></th>\n",
       "    </tr>\n",
       "  </thead>\n",
       "  <tbody>\n",
       "    <tr>\n",
       "      <th>12346.0</th>\n",
       "      <td>325</td>\n",
       "      <td>1</td>\n",
       "      <td>77183.60</td>\n",
       "    </tr>\n",
       "    <tr>\n",
       "      <th>12347.0</th>\n",
       "      <td>1</td>\n",
       "      <td>7</td>\n",
       "      <td>163.16</td>\n",
       "    </tr>\n",
       "    <tr>\n",
       "      <th>12348.0</th>\n",
       "      <td>74</td>\n",
       "      <td>4</td>\n",
       "      <td>331.36</td>\n",
       "    </tr>\n",
       "    <tr>\n",
       "      <th>12349.0</th>\n",
       "      <td>18</td>\n",
       "      <td>1</td>\n",
       "      <td>15.00</td>\n",
       "    </tr>\n",
       "    <tr>\n",
       "      <th>12350.0</th>\n",
       "      <td>309</td>\n",
       "      <td>1</td>\n",
       "      <td>25.20</td>\n",
       "    </tr>\n",
       "  </tbody>\n",
       "</table>\n",
       "</div>"
      ],
      "text/plain": [
       "            Recency  Frequency  Monetary\n",
       "CustomerID                              \n",
       "12346.0         325          1  77183.60\n",
       "12347.0           1          7    163.16\n",
       "12348.0          74          4    331.36\n",
       "12349.0          18          1     15.00\n",
       "12350.0         309          1     25.20"
      ]
     },
     "execution_count": 64,
     "metadata": {},
     "output_type": "execute_result"
    }
   ],
   "source": [
    "# Renaming columns \n",
    "rfm.rename(columns={'InvoiceDate': 'Recency', \n",
    "                        'InvoiceNo': 'Frequency',\n",
    "                        'Total of Sales': 'Monetary'}, inplace=True)\n",
    "rfm.head()"
   ]
  },
  {
   "cell_type": "code",
   "execution_count": 65,
   "id": "ec7f5ce9",
   "metadata": {},
   "outputs": [
    {
     "data": {
      "text/html": [
       "<div>\n",
       "<style scoped>\n",
       "    .dataframe tbody tr th:only-of-type {\n",
       "        vertical-align: middle;\n",
       "    }\n",
       "\n",
       "    .dataframe tbody tr th {\n",
       "        vertical-align: top;\n",
       "    }\n",
       "\n",
       "    .dataframe thead th {\n",
       "        text-align: right;\n",
       "    }\n",
       "</style>\n",
       "<table border=\"1\" class=\"dataframe\">\n",
       "  <thead>\n",
       "    <tr style=\"text-align: right;\">\n",
       "      <th></th>\n",
       "      <th>Recency</th>\n",
       "      <th>Frequency</th>\n",
       "      <th>Monetary</th>\n",
       "    </tr>\n",
       "  </thead>\n",
       "  <tbody>\n",
       "    <tr>\n",
       "      <th>count</th>\n",
       "      <td>4339.0</td>\n",
       "      <td>4339.0</td>\n",
       "      <td>4339.0</td>\n",
       "    </tr>\n",
       "    <tr>\n",
       "      <th>mean</th>\n",
       "      <td>91.5</td>\n",
       "      <td>4.6</td>\n",
       "      <td>309.0</td>\n",
       "    </tr>\n",
       "    <tr>\n",
       "      <th>std</th>\n",
       "      <td>100.0</td>\n",
       "      <td>22.9</td>\n",
       "      <td>3227.3</td>\n",
       "    </tr>\n",
       "    <tr>\n",
       "      <th>min</th>\n",
       "      <td>0.0</td>\n",
       "      <td>1.0</td>\n",
       "      <td>0.4</td>\n",
       "    </tr>\n",
       "    <tr>\n",
       "      <th>25%</th>\n",
       "      <td>17.0</td>\n",
       "      <td>1.0</td>\n",
       "      <td>17.7</td>\n",
       "    </tr>\n",
       "    <tr>\n",
       "      <th>50%</th>\n",
       "      <td>50.0</td>\n",
       "      <td>2.0</td>\n",
       "      <td>47.1</td>\n",
       "    </tr>\n",
       "    <tr>\n",
       "      <th>75%</th>\n",
       "      <td>141.0</td>\n",
       "      <td>5.0</td>\n",
       "      <td>130.2</td>\n",
       "    </tr>\n",
       "    <tr>\n",
       "      <th>max</th>\n",
       "      <td>373.0</td>\n",
       "      <td>1427.0</td>\n",
       "      <td>168471.2</td>\n",
       "    </tr>\n",
       "  </tbody>\n",
       "</table>\n",
       "</div>"
      ],
      "text/plain": [
       "       Recency  Frequency  Monetary\n",
       "count   4339.0     4339.0    4339.0\n",
       "mean      91.5        4.6     309.0\n",
       "std      100.0       22.9    3227.3\n",
       "min        0.0        1.0       0.4\n",
       "25%       17.0        1.0      17.7\n",
       "50%       50.0        2.0      47.1\n",
       "75%      141.0        5.0     130.2\n",
       "max      373.0     1427.0  168471.2"
      ]
     },
     "execution_count": 65,
     "metadata": {},
     "output_type": "execute_result"
    }
   ],
   "source": [
    "# Summary statistics of RFM values \n",
    "rfm.describe().round(1)"
   ]
  },
  {
   "cell_type": "code",
   "execution_count": 66,
   "id": "ce282961",
   "metadata": {},
   "outputs": [],
   "source": [
    "# Building Recency Segment via quartile (Here, the lower, the better)\n",
    "r_labels = range(4,0,-1)\n",
    "r_quartiles = pd.qcut(rfm['Recency'], 4, labels=r_labels)\n",
    "rfm = rfm.assign(R=r_quartiles.values).round(0)"
   ]
  },
  {
   "cell_type": "code",
   "execution_count": 67,
   "id": "b842cb8c",
   "metadata": {},
   "outputs": [],
   "source": [
    "# Building Frequency Segment via quartile\n",
    "f_labels = range(1, 5)\n",
    "f_bins = [0, 1, 2, 4, rfm['Frequency'].max()] \n",
    "f_quartiles = pd.cut(rfm['Frequency'], bins=f_bins, labels=f_labels, right=False)\n",
    "rfm = rfm.assign(F=f_quartiles.values).round(0)"
   ]
  },
  {
   "cell_type": "code",
   "execution_count": 68,
   "id": "272750b8",
   "metadata": {},
   "outputs": [
    {
     "data": {
      "text/html": [
       "<div>\n",
       "<style scoped>\n",
       "    .dataframe tbody tr th:only-of-type {\n",
       "        vertical-align: middle;\n",
       "    }\n",
       "\n",
       "    .dataframe tbody tr th {\n",
       "        vertical-align: top;\n",
       "    }\n",
       "\n",
       "    .dataframe thead th {\n",
       "        text-align: right;\n",
       "    }\n",
       "</style>\n",
       "<table border=\"1\" class=\"dataframe\">\n",
       "  <thead>\n",
       "    <tr style=\"text-align: right;\">\n",
       "      <th></th>\n",
       "      <th>Recency</th>\n",
       "      <th>Frequency</th>\n",
       "      <th>Monetary</th>\n",
       "      <th>R</th>\n",
       "      <th>F</th>\n",
       "      <th>M</th>\n",
       "    </tr>\n",
       "    <tr>\n",
       "      <th>CustomerID</th>\n",
       "      <th></th>\n",
       "      <th></th>\n",
       "      <th></th>\n",
       "      <th></th>\n",
       "      <th></th>\n",
       "      <th></th>\n",
       "    </tr>\n",
       "  </thead>\n",
       "  <tbody>\n",
       "    <tr>\n",
       "      <th>12346.0</th>\n",
       "      <td>325</td>\n",
       "      <td>1</td>\n",
       "      <td>77184.0</td>\n",
       "      <td>1</td>\n",
       "      <td>2</td>\n",
       "      <td>4</td>\n",
       "    </tr>\n",
       "    <tr>\n",
       "      <th>12347.0</th>\n",
       "      <td>1</td>\n",
       "      <td>7</td>\n",
       "      <td>163.0</td>\n",
       "      <td>4</td>\n",
       "      <td>4</td>\n",
       "      <td>4</td>\n",
       "    </tr>\n",
       "    <tr>\n",
       "      <th>12348.0</th>\n",
       "      <td>74</td>\n",
       "      <td>4</td>\n",
       "      <td>331.0</td>\n",
       "      <td>2</td>\n",
       "      <td>4</td>\n",
       "      <td>4</td>\n",
       "    </tr>\n",
       "    <tr>\n",
       "      <th>12349.0</th>\n",
       "      <td>18</td>\n",
       "      <td>1</td>\n",
       "      <td>15.0</td>\n",
       "      <td>3</td>\n",
       "      <td>2</td>\n",
       "      <td>4</td>\n",
       "    </tr>\n",
       "    <tr>\n",
       "      <th>12350.0</th>\n",
       "      <td>309</td>\n",
       "      <td>1</td>\n",
       "      <td>25.0</td>\n",
       "      <td>1</td>\n",
       "      <td>2</td>\n",
       "      <td>4</td>\n",
       "    </tr>\n",
       "  </tbody>\n",
       "</table>\n",
       "</div>"
      ],
      "text/plain": [
       "            Recency  Frequency  Monetary  R  F  M\n",
       "CustomerID                                       \n",
       "12346.0         325          1   77184.0  1  2  4\n",
       "12347.0           1          7     163.0  4  4  4\n",
       "12348.0          74          4     331.0  2  4  4\n",
       "12349.0          18          1      15.0  3  2  4\n",
       "12350.0         309          1      25.0  1  2  4"
      ]
     },
     "execution_count": 68,
     "metadata": {},
     "output_type": "execute_result"
    }
   ],
   "source": [
    "# Building Monetary Segment via custom bin edges\n",
    "m_labels = range(1, 5)\n",
    "m_bins = [0, 1, 2, 4,rfm['Monetary'].max()]\n",
    "m_quartiles = pd.cut(rfm['Monetary'], bins=m_bins, labels=m_labels, right=False)\n",
    "rfm = rfm.assign(M=m_quartiles.values).round(0)\n",
    "\n",
    "rfm.head()"
   ]
  },
  {
   "cell_type": "code",
   "execution_count": 69,
   "id": "cf9e3c66",
   "metadata": {},
   "outputs": [
    {
     "name": "stderr",
     "output_type": "stream",
     "text": [
      "C:\\Users\\Diva Azzahra\\anaconda3\\Lib\\site-packages\\pandas\\core\\arrays\\base.py:485: RuntimeWarning: invalid value encountered in cast\n",
      "  result = np.asarray(self, dtype=dtype)\n"
     ]
    },
    {
     "data": {
      "text/html": [
       "<div>\n",
       "<style scoped>\n",
       "    .dataframe tbody tr th:only-of-type {\n",
       "        vertical-align: middle;\n",
       "    }\n",
       "\n",
       "    .dataframe tbody tr th {\n",
       "        vertical-align: top;\n",
       "    }\n",
       "\n",
       "    .dataframe thead th {\n",
       "        text-align: right;\n",
       "    }\n",
       "</style>\n",
       "<table border=\"1\" class=\"dataframe\">\n",
       "  <thead>\n",
       "    <tr style=\"text-align: right;\">\n",
       "      <th></th>\n",
       "      <th>Recency</th>\n",
       "      <th>Frequency</th>\n",
       "      <th>Monetary</th>\n",
       "      <th>R</th>\n",
       "      <th>F</th>\n",
       "      <th>M</th>\n",
       "      <th>RFM_Segment</th>\n",
       "      <th>RFM_Score</th>\n",
       "    </tr>\n",
       "    <tr>\n",
       "      <th>CustomerID</th>\n",
       "      <th></th>\n",
       "      <th></th>\n",
       "      <th></th>\n",
       "      <th></th>\n",
       "      <th></th>\n",
       "      <th></th>\n",
       "      <th></th>\n",
       "      <th></th>\n",
       "    </tr>\n",
       "  </thead>\n",
       "  <tbody>\n",
       "    <tr>\n",
       "      <th>12346.0</th>\n",
       "      <td>325</td>\n",
       "      <td>1</td>\n",
       "      <td>77184.0</td>\n",
       "      <td>1</td>\n",
       "      <td>2</td>\n",
       "      <td>4</td>\n",
       "      <td>1.02.04.0</td>\n",
       "      <td>7</td>\n",
       "    </tr>\n",
       "    <tr>\n",
       "      <th>12347.0</th>\n",
       "      <td>1</td>\n",
       "      <td>7</td>\n",
       "      <td>163.0</td>\n",
       "      <td>4</td>\n",
       "      <td>4</td>\n",
       "      <td>4</td>\n",
       "      <td>4.04.04.0</td>\n",
       "      <td>12</td>\n",
       "    </tr>\n",
       "    <tr>\n",
       "      <th>12348.0</th>\n",
       "      <td>74</td>\n",
       "      <td>4</td>\n",
       "      <td>331.0</td>\n",
       "      <td>2</td>\n",
       "      <td>4</td>\n",
       "      <td>4</td>\n",
       "      <td>2.04.04.0</td>\n",
       "      <td>10</td>\n",
       "    </tr>\n",
       "    <tr>\n",
       "      <th>12349.0</th>\n",
       "      <td>18</td>\n",
       "      <td>1</td>\n",
       "      <td>15.0</td>\n",
       "      <td>3</td>\n",
       "      <td>2</td>\n",
       "      <td>4</td>\n",
       "      <td>3.02.04.0</td>\n",
       "      <td>9</td>\n",
       "    </tr>\n",
       "    <tr>\n",
       "      <th>12350.0</th>\n",
       "      <td>309</td>\n",
       "      <td>1</td>\n",
       "      <td>25.0</td>\n",
       "      <td>1</td>\n",
       "      <td>2</td>\n",
       "      <td>4</td>\n",
       "      <td>1.02.04.0</td>\n",
       "      <td>7</td>\n",
       "    </tr>\n",
       "  </tbody>\n",
       "</table>\n",
       "</div>"
      ],
      "text/plain": [
       "            Recency  Frequency  Monetary  R  F  M RFM_Segment  RFM_Score\n",
       "CustomerID                                                              \n",
       "12346.0         325          1   77184.0  1  2  4   1.02.04.0          7\n",
       "12347.0           1          7     163.0  4  4  4   4.04.04.0         12\n",
       "12348.0          74          4     331.0  2  4  4   2.04.04.0         10\n",
       "12349.0          18          1      15.0  3  2  4   3.02.04.0          9\n",
       "12350.0         309          1      25.0  1  2  4   1.02.04.0          7"
      ]
     },
     "execution_count": 69,
     "metadata": {},
     "output_type": "execute_result"
    }
   ],
   "source": [
    "# Building RFM Segment \n",
    "def join_rfm(x): return str (x['R'])+str(x['F'])+str(x['M'])\n",
    "\n",
    "rfm['RFM_Segment'] = rfm.apply(join_rfm, axis=1)\n",
    "rfm['RFM_Score'] = rfm[['R', 'F', 'M']].sum(axis=1)\n",
    "rfm.head()"
   ]
  },
  {
   "cell_type": "code",
   "execution_count": 70,
   "id": "45f61d04",
   "metadata": {
    "scrolled": true
   },
   "outputs": [
    {
     "data": {
      "text/html": [
       "<div>\n",
       "<style scoped>\n",
       "    .dataframe tbody tr th:only-of-type {\n",
       "        vertical-align: middle;\n",
       "    }\n",
       "\n",
       "    .dataframe tbody tr th {\n",
       "        vertical-align: top;\n",
       "    }\n",
       "\n",
       "    .dataframe thead th {\n",
       "        text-align: right;\n",
       "    }\n",
       "</style>\n",
       "<table border=\"1\" class=\"dataframe\">\n",
       "  <thead>\n",
       "    <tr style=\"text-align: right;\">\n",
       "      <th></th>\n",
       "      <th>Recency</th>\n",
       "      <th>Frequency</th>\n",
       "      <th>Monetary</th>\n",
       "      <th>R</th>\n",
       "      <th>F</th>\n",
       "      <th>M</th>\n",
       "      <th>RFM_Segment</th>\n",
       "      <th>RFM_Score</th>\n",
       "      <th>Segment</th>\n",
       "    </tr>\n",
       "    <tr>\n",
       "      <th>CustomerID</th>\n",
       "      <th></th>\n",
       "      <th></th>\n",
       "      <th></th>\n",
       "      <th></th>\n",
       "      <th></th>\n",
       "      <th></th>\n",
       "      <th></th>\n",
       "      <th></th>\n",
       "      <th></th>\n",
       "    </tr>\n",
       "  </thead>\n",
       "  <tbody>\n",
       "    <tr>\n",
       "      <th>18281.0</th>\n",
       "      <td>180</td>\n",
       "      <td>1</td>\n",
       "      <td>5.0</td>\n",
       "      <td>1</td>\n",
       "      <td>2</td>\n",
       "      <td>4</td>\n",
       "      <td>1.02.04.0</td>\n",
       "      <td>7</td>\n",
       "      <td>Weak Customers</td>\n",
       "    </tr>\n",
       "    <tr>\n",
       "      <th>18282.0</th>\n",
       "      <td>7</td>\n",
       "      <td>2</td>\n",
       "      <td>38.0</td>\n",
       "      <td>4</td>\n",
       "      <td>3</td>\n",
       "      <td>4</td>\n",
       "      <td>4.03.04.0</td>\n",
       "      <td>11</td>\n",
       "      <td>Lost Customer</td>\n",
       "    </tr>\n",
       "    <tr>\n",
       "      <th>18283.0</th>\n",
       "      <td>3</td>\n",
       "      <td>16</td>\n",
       "      <td>67.0</td>\n",
       "      <td>4</td>\n",
       "      <td>4</td>\n",
       "      <td>4</td>\n",
       "      <td>4.04.04.0</td>\n",
       "      <td>12</td>\n",
       "      <td>Vip Customers</td>\n",
       "    </tr>\n",
       "    <tr>\n",
       "      <th>18287.0</th>\n",
       "      <td>42</td>\n",
       "      <td>3</td>\n",
       "      <td>80.0</td>\n",
       "      <td>3</td>\n",
       "      <td>3</td>\n",
       "      <td>4</td>\n",
       "      <td>3.03.04.0</td>\n",
       "      <td>10</td>\n",
       "      <td>Regular Customers</td>\n",
       "    </tr>\n",
       "    <tr>\n",
       "      <th>Unknown</th>\n",
       "      <td>0</td>\n",
       "      <td>1427</td>\n",
       "      <td>52540.0</td>\n",
       "      <td>4</td>\n",
       "      <td>NaN</td>\n",
       "      <td>4</td>\n",
       "      <td>4.0nan4.0</td>\n",
       "      <td>-9223372036854775800</td>\n",
       "      <td>Lost Customer</td>\n",
       "    </tr>\n",
       "  </tbody>\n",
       "</table>\n",
       "</div>"
      ],
      "text/plain": [
       "            Recency  Frequency  Monetary  R    F  M RFM_Segment  \\\n",
       "CustomerID                                                        \n",
       "18281.0         180          1       5.0  1    2  4   1.02.04.0   \n",
       "18282.0           7          2      38.0  4    3  4   4.03.04.0   \n",
       "18283.0           3         16      67.0  4    4  4   4.04.04.0   \n",
       "18287.0          42          3      80.0  3    3  4   3.03.04.0   \n",
       "Unknown           0       1427   52540.0  4  NaN  4   4.0nan4.0   \n",
       "\n",
       "                      RFM_Score             Segment  \n",
       "CustomerID                                           \n",
       "18281.0                       7      Weak Customers  \n",
       "18282.0                      11       Lost Customer  \n",
       "18283.0                      12       Vip Customers  \n",
       "18287.0                      10   Regular Customers  \n",
       "Unknown    -9223372036854775800       Lost Customer  "
      ]
     },
     "execution_count": 70,
     "metadata": {},
     "output_type": "execute_result"
    }
   ],
   "source": [
    "# Assigning custom labels to each customer according to his RFM Score \n",
    "def segment_me (df):\n",
    "    if df['RFM_Score']==12: return 'Vip Customers'\n",
    "    elif df['RFM_Score']<=10 and df['RFM_Score']>=8: return ' Regular Customers'\n",
    "    elif df['RFM_Score']<=7 and df['RFM_Score']>=4: return 'Weak Customers'\n",
    "    else: return 'Lost Customer'\n",
    "    \n",
    "    \n",
    "rfm['Segment']=rfm.apply(segment_me, axis=1)\n",
    "rfm.tail()"
   ]
  },
  {
   "cell_type": "code",
   "execution_count": 71,
   "id": "5d0dc511",
   "metadata": {},
   "outputs": [
    {
     "data": {
      "image/png": "[encoded data removed]",
      "text/plain": [
       "<Figure size 800x600 with 1 Axes>"
      ]
     },
     "metadata": {},
     "output_type": "display_data"
    }
   ],
   "source": [
    "# Visualize the number of customers by segment \n",
    "segment_counts = rfm['Segment'].value_counts()\n",
    "plt.figure(figsize=(8,6))\n",
    "ax = sns.barplot(x=segment_counts.index, y=segment_counts.values, palette='rocket')\n",
    "ax.bar_label(ax.containers[0])\n",
    "plt.title('Customers by Segment')\n",
    "plt.xticks(fontsize=10)\n",
    "plt.xlabel('Segment')\n",
    "plt.ylabel('Percentage')\n",
    "plt.show()"
   ]
  },
  {
   "cell_type": "code",
   "execution_count": 72,
   "id": "2870ce90",
   "metadata": {},
   "outputs": [
    {
     "data": {
      "image/png": "[encoded data removed]",
      "text/plain": [
       "<Figure size 800x500 with 1 Axes>"
      ]
     },
     "metadata": {},
     "output_type": "display_data"
    }
   ],
   "source": [
    "# Visualize the number of customers by segment \n",
    "segment_counts = rfm['Segment'].value_counts()\n",
    "percentage = segment_counts / len(rfm) * 100\n",
    "percentage = percentage.round(1)\n",
    "plt.figure(figsize=(8,5))\n",
    "ax = sns.barplot(x=segment_counts.index, y=percentage.values, palette='rocket')\n",
    "ax.bar_label(ax.containers[0])\n",
    "plt.title('Customers by Segment')\n",
    "plt.xticks(fontsize=8)\n",
    "plt.xlabel('Segment')\n",
    "plt.ylabel('Percentage')\n",
    "plt.show()"
   ]
  },
  {
   "cell_type": "markdown",
   "id": "9a931467",
   "metadata": {},
   "source": [
    "**Conclusion**\n",
    "<br>In conclusion, our e-commerce customer segmentation analysis using RFM-based segmentation has provided valuable insights into the customer base.\n",
    "\n",
    "**Regular Customers (49.4%)**: This is the largest segment, encompassing approximately 50% of our customer base. These \"Regular Customers\" engage in occasional purchases and contribute significantly to our revenue. They are the backbone of our business, and our goal should be to keep them engaged consistently.\n",
    "\n",
    "**VIP Customers (17.4%)**: This segment consists of around 16% of our customers and is highly valuable. \"VIP Customers\" make frequent purchases throughout the year and spend generously. They represent the cream of our customer crop and should be treated with special care.\n",
    "\n",
    "**Weak Customers (17.3%)**: Comprising about 17.8% of our customer base, there are approximately 756 \"Weak Customers\" who have made only 1 or 2 purchases. It's been a while since their last purchase. Targeted marketing efforts are crucial to potentially revive their interest and encourage more purchases.\n",
    "\n",
    "**Lost Customers (15.8%)**: The \"Lost Customers\" category is home to those customers with the lowest RFM scores. These customers have made just one purchase, and their monetary contribution is the lowest across all segments. Additionally, they haven't made recent purchases, signifying their disengagement from our platform.\n",
    "\n",
    "To leverage customer segmentation effectively, we should focus on tailored marketing strategies, customized promotions, and Enhanced customer experiences such as offering cashback, free shipping, and others . These efforts can reactivate dormant customers and establish long-term loyalty. Ultimately, our customer segmentation offers an opportunity to maximize engagement and, consequently, revenue."
   ]
  }
 ],
 "metadata": {
  "kernelspec": {
   "display_name": "Python 3 (ipykernel)",
   "language": "python",
   "name": "python3"
  },
  "language_info": {
   "codemirror_mode": {
    "name": "ipython",
    "version": 3
   },
   "file_extension": ".py",
   "mimetype": "text/x-python",
   "name": "python",
   "nbconvert_exporter": "python",
   "pygments_lexer": "ipython3",
   "version": "3.11.5"
  }
 },
 "nbformat": 4,
 "nbformat_minor": 5
}
